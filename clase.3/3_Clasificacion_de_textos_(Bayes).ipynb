{
 "cells": [
  {
   "cell_type": "markdown",
   "metadata": {
    "colab_type": "text",
    "id": "8-1ien5uyjFP"
   },
   "source": [
    "# Clasificación de textos: Naive Bayes "
   ]
  },
  {
   "cell_type": "code",
   "execution_count": 1,
   "metadata": {
    "colab": {},
    "colab_type": "code",
    "id": "VSdkEOPJyjFQ"
   },
   "outputs": [
    {
     "name": "stderr",
     "output_type": "stream",
     "text": [
      "/home/ddellera/p3/lib/python3.5/site-packages/sklearn/ensemble/weight_boosting.py:29: DeprecationWarning: numpy.core.umath_tests is an internal NumPy module and should not be imported. It will be removed in a future NumPy release.\n",
      "  from numpy.core.umath_tests import inner1d\n",
      "[nltk_data] Downloading package movie_reviews to\n",
      "[nltk_data]     /home/ddellera/nltk_data...\n",
      "[nltk_data]   Unzipping corpora/movie_reviews.zip.\n",
      "[nltk_data] Downloading package punkt to /home/ddellera/nltk_data...\n",
      "[nltk_data]   Package punkt is already up-to-date!\n"
     ]
    }
   ],
   "source": [
    "%matplotlib inline \n",
    "import matplotlib.pyplot as plt\n",
    "import pandas as pd\n",
    "import numpy as np\n",
    "import re\n",
    "import random\n",
    "\n",
    "from nltk import word_tokenize, sent_tokenize\n",
    "\n",
    "from sklearn.model_selection import train_test_split, cross_val_score, GridSearchCV,StratifiedKFold\n",
    "from sklearn.feature_extraction.text import CountVectorizer, TfidfVectorizer\n",
    "from sklearn.naive_bayes import MultinomialNB\n",
    "from sklearn.metrics import confusion_matrix, precision_recall_fscore_support, classification_report\n",
    "from sklearn.ensemble import RandomForestClassifier, GradientBoostingClassifier\n",
    "from sklearn.dummy import DummyClassifier\n",
    "import nltk\n",
    "nltk.download('movie_reviews')\n",
    "nltk.download('punkt')\n",
    "from nltk.corpus import movie_reviews"
   ]
  },
  {
   "cell_type": "code",
   "execution_count": 2,
   "metadata": {
    "colab": {},
    "colab_type": "code",
    "id": "fd73GYAoAYi5"
   },
   "outputs": [
    {
     "data": {
      "text/plain": [
       "['neg', 'pos']"
      ]
     },
     "execution_count": 2,
     "metadata": {},
     "output_type": "execute_result"
    }
   ],
   "source": [
    "movie_reviews.categories()"
   ]
  },
  {
   "cell_type": "code",
   "execution_count": 3,
   "metadata": {
    "colab": {},
    "colab_type": "code",
    "id": "zuAnRgkJAmd-"
   },
   "outputs": [
    {
     "data": {
      "text/plain": [
       "['neg/cv000_29416.txt',\n",
       " 'neg/cv001_19502.txt',\n",
       " 'neg/cv002_17424.txt',\n",
       " 'neg/cv003_12683.txt',\n",
       " 'neg/cv004_12641.txt',\n",
       " 'neg/cv005_29357.txt',\n",
       " 'neg/cv006_17022.txt',\n",
       " 'neg/cv007_4992.txt',\n",
       " 'neg/cv008_29326.txt',\n",
       " 'neg/cv009_29417.txt']"
      ]
     },
     "execution_count": 3,
     "metadata": {},
     "output_type": "execute_result"
    }
   ],
   "source": [
    "neg_review_fileids = movie_reviews.fileids('neg')\n",
    "neg_review_fileids[:10]"
   ]
  },
  {
   "cell_type": "code",
   "execution_count": 4,
   "metadata": {
    "colab": {},
    "colab_type": "code",
    "id": "-glkTf_J89sI"
   },
   "outputs": [
    {
     "name": "stdout",
     "output_type": "stream",
     "text": [
      "it is movies like these that make a jaded movie viewer thankful for the invention of the timex indiglo watch . \n",
      "based on the late 1960's television show by the same name , the mod squad tells the tale of three reformed criminals under the employ of the police to go undercover . \n",
      "however , things go wrong as evidence gets stolen and they are immediately under suspicion . \n",
      "of course , the ads make it seem like so much more . \n",
      "quick cuts , cool music , claire dane's nice hair and cute outfits , car chases , stuff blowing up , and the like . \n",
      "sounds like a cool movie , does it not ? \n",
      "after the first fifteen minutes , it quickly becomes apparent that it is not . \n",
      "the mod squad is certainly a slick looking production , complete with nice hair and costumes , but that simply isn't enough . \n",
      "the film is best described as a cross between an hour-long cop show and a music video , both stretched out into the span of an hour and a half . \n",
      "and with it comes every single clich ? . \n",
      "it doesn't really matter that the film is based on a television show , as most of the plot elements have been recycled from everything we've already seen . \n",
      "the characters and acting is nothing spectacular , sometimes even bordering on wooden . \n",
      "claire danes and omar epps deliver their lines as if they are bored , which really transfers onto the audience . \n",
      "the only one to escape relatively unscathed is giovanni ribisi , who plays the resident crazy man , ultimately being the only thing worth watching . \n",
      "unfortunately , even he's not enough to save this convoluted mess , as all the characters don't do much apart from occupying screen time . \n",
      "with the young cast , cool clothes , nice hair , and hip soundtrack , it appears that the film is geared towards the teenage mindset . \n",
      "despite an american 'r' rating ( which the content does not justify ) , the film is way too juvenile for the older mindset . \n",
      "information on the characters is literally spoon-fed to the audience ( would it be that hard to show us instead of telling us ? ) , dialogue is poorly written , and the plot is extremely predictable . \n",
      "the way the film progresses , you likely won't even care if the heroes are in any jeopardy , because you'll know they aren't . \n",
      "basing the show on a 1960's television show that nobody remembers is of questionable wisdom , especially when one considers the target audience and the fact that the number of memorable films based on television shows can be counted on one hand ( even one that's missing a finger or two ) . \n",
      "the number of times that i checked my watch ( six ) is a clear indication that this film is not one of them . \n",
      "it is clear that the film is nothing more than an attempt to cash in on the teenage spending dollar , judging from the rash of really awful teen-flicks that we've been seeing as of late . \n",
      "avoid this film at all costs . \n",
      "\n"
     ]
    }
   ],
   "source": [
    "print(movie_reviews.raw(neg_review_fileids[2]))"
   ]
  },
  {
   "cell_type": "code",
   "execution_count": 6,
   "metadata": {
    "colab": {},
    "colab_type": "code",
    "id": "yTiYruP32H7A"
   },
   "outputs": [],
   "source": [
    "documents = []\n",
    " \n",
    "for category in movie_reviews.categories():\n",
    "    for fileid in movie_reviews.fileids(category):\n",
    "        documents.append((movie_reviews.raw(fileid), category))\n",
    "\n",
    "df = pd.DataFrame(documents, columns=['review', 'tag'])\n"
   ]
  },
  {
   "cell_type": "code",
   "execution_count": 7,
   "metadata": {
    "colab": {},
    "colab_type": "code",
    "id": "D3bVVuTtyjFX"
   },
   "outputs": [
    {
     "data": {
      "text/html": [
       "<div>\n",
       "<style scoped>\n",
       "    .dataframe tbody tr th:only-of-type {\n",
       "        vertical-align: middle;\n",
       "    }\n",
       "\n",
       "    .dataframe tbody tr th {\n",
       "        vertical-align: top;\n",
       "    }\n",
       "\n",
       "    .dataframe thead th {\n",
       "        text-align: right;\n",
       "    }\n",
       "</style>\n",
       "<table border=\"1\" class=\"dataframe\">\n",
       "  <thead>\n",
       "    <tr style=\"text-align: right;\">\n",
       "      <th></th>\n",
       "      <th>review</th>\n",
       "      <th>tag</th>\n",
       "    </tr>\n",
       "  </thead>\n",
       "  <tbody>\n",
       "    <tr>\n",
       "      <td>0</td>\n",
       "      <td>arnold schwarzenegger has been an icon for act...</td>\n",
       "      <td>neg</td>\n",
       "    </tr>\n",
       "    <tr>\n",
       "      <td>1</td>\n",
       "      <td>good films are hard to find these days . \\ngre...</td>\n",
       "      <td>pos</td>\n",
       "    </tr>\n",
       "    <tr>\n",
       "      <td>2</td>\n",
       "      <td>quaid stars as a man who has taken up the prof...</td>\n",
       "      <td>pos</td>\n",
       "    </tr>\n",
       "    <tr>\n",
       "      <td>3</td>\n",
       "      <td>we could paraphrase michelle pfieffer's charac...</td>\n",
       "      <td>neg</td>\n",
       "    </tr>\n",
       "    <tr>\n",
       "      <td>4</td>\n",
       "      <td>kolya is one of the richest films i've seen in...</td>\n",
       "      <td>pos</td>\n",
       "    </tr>\n",
       "  </tbody>\n",
       "</table>\n",
       "</div>"
      ],
      "text/plain": [
       "                                              review  tag\n",
       "0  arnold schwarzenegger has been an icon for act...  neg\n",
       "1  good films are hard to find these days . \\ngre...  pos\n",
       "2  quaid stars as a man who has taken up the prof...  pos\n",
       "3  we could paraphrase michelle pfieffer's charac...  neg\n",
       "4  kolya is one of the richest films i've seen in...  pos"
      ]
     },
     "execution_count": 7,
     "metadata": {},
     "output_type": "execute_result"
    }
   ],
   "source": [
    "df = df.sample(frac=1,random_state=0).reset_index(drop=True).copy()\n",
    "df.head()"
   ]
  },
  {
   "cell_type": "code",
   "execution_count": 8,
   "metadata": {
    "colab": {},
    "colab_type": "code",
    "id": "URosYuw_yjFa"
   },
   "outputs": [
    {
     "data": {
      "text/plain": [
       "neg    1000\n",
       "pos    1000\n",
       "Name: tag, dtype: int64"
      ]
     },
     "execution_count": 8,
     "metadata": {},
     "output_type": "execute_result"
    }
   ],
   "source": [
    "df.tag.value_counts()"
   ]
  },
  {
   "cell_type": "code",
   "execution_count": 9,
   "metadata": {
    "colab": {},
    "colab_type": "code",
    "id": "SPc8EwVeyjFd"
   },
   "outputs": [],
   "source": [
    "# separamos entre train y test sets\n",
    "X = df.review\n",
    "y = df.tag\n",
    "X_train_text, X_test_text, y_train, y_test = train_test_split(X,y,stratify=y, test_size=0.20, random_state=1234)"
   ]
  },
  {
   "cell_type": "code",
   "execution_count": 51,
   "metadata": {
    "colab": {},
    "colab_type": "code",
    "id": "CmRBEf0eyjFf"
   },
   "outputs": [
    {
     "data": {
      "text/plain": [
       "['wolfgang petersen\\'s latest , the perfect storm , is like a pineapple . \\nit only tastes good after arduous peeling and digging - if you try to eat the fruit , spikes and all , it\\'s going to hurt ? quite a bit . \\nok , maybe that was a confusing analogy , so here\\'s my main complaint about the latest man battles nature flick : there isn\\'t really much of a story to tell . \\nbasically , a massachusetts fishing crew goes out to sea on a small boat , called the andrea gail , and gets stuck in the middle of \" the storm of the century . \" \\nhow much time does it take for petersen to tell this story ? \\nnot nearly enough . \\nso he spends the majority of the film developing pointless side stories which all eventually become superfluous . \\naudiences want to see the storm , they want to see a fight for survival but what they get is a lot of cliched , maudlin drivel . \\nthe last quarter of the perfect storm is utterly perfect in every aspect , but just try lasting the first three-quarters . \\ni have yet to read sebastian junger\\'s the perfect storm , but from what i have heard it is an unforgettable tale . \\nbased on a true story , the book must have found some other way to introduce the characters because in the movie version , the approach is weak . \\nusing a wonderfully patriotic score by james horner , petersen almost hides the in-your-face banality . \\nright away the central characters are introduced : the gritty , determined captain ( george clooney ) , the ingenue ( mark wahlberg ) torn between his job and his girlfriend ( diane lane ) , the loving father ( john c . reilly ) , the comic relief who\\'s always trying to get laid ( john hawkes ) , the new guy ( william fichtner ) who immediately antagonizes a crewmate and the quiet , french guy ( allen payne ) . \\nso many problems strike the opening segment of the film that the remaining portions directly suffer . \\nit is not the all-star cast\\'s fault , just the characters designed for their portrayal . \\nallen payne\\'s character never speaks in the entire movie , not because he is mute , but because he\\'s never given any lines ! \\nare we supposed to root for a guy whose face and voice we are never given a chance to interact with ? \\nfichtner\\'s character is terribly underdeveloped - we don\\'t know what he\\'s doing there , where he\\'s from , or who he\\'s supposed to be . \\nthe remaining four fishermen are all cardboard stereotypes ( hawkes says to a female stranger in one scene \" you know what would look good on you ? \\nme ! \" \\nooooh real creative ) . \\nas the script advances and the andrea gail floats farther out into the waters , the crew continues to not feel human . \\nonly when the storm takes center stage does the movie jump out of its sleepwalk . \\nthe computer-generated images of gigantic waves crashing against a helpless boat are thunderously real . \\ni can only imagine if this was an imax film , this city kid would surely never go in the water again . \\nthis is loud , jolting entertainment - adjectives that completely negate the rest of the film . \\nthe perfect storm was unfortunately a disappointment . \\nthe maelstrom lived up to its potential but everything else failed to do so . \\ni guess i\\'ll stick to that other survival spectacle ? you know the one on cbs ? \\n',\n",
       " 'i have to admit that i disliked this film initially . \\nit certianly isn\\'t for every taste , and it\\'s sheer torture to sit through if you\\'re in a restless mood . \\nthat said , if you are in the right mood , it\\'s absolutely incredible . \\nthis was my second favorite movie of 1998 , and would have been a shoo-in for first in almost any other year . \\nperhaps the big turn-off for many was this film\\'s unconventionality . \\ni\\'d be hard-pressed to compare it to any other film that i\\'ve seen - it is very , very artsy , incredibly slow - and amazingly , it works beautifully . \\non my second viewing , i realized that the film follows the three act structure ( i didn\\'t think it had any sort of structure at all when i first saw it ) . \\nthe first act serves to set up the characters - sort of . \\nit exists even moreso to set a mood of tension and restlesness , and perhaps even feelings of boredom . \\nand then it is shattered by the intense violence of the second ( which encompasses most of the movie ) . \\nthe majority of the film is one extended battle scene , intercut with brief flashbacks and voice-overs . \\nthe artsier elements do not detract from the action , but add to it - they succeed in briefly letting the viewer peek into the minds of the soldiers , only to be suddenly yanked back into reality when the battle resumes . \\nthe battle scenes are amazing ( second only to \" saving private ryan \" in my opinion ) . \\nthey\\'re brutal , horrifying , and at times beautiful due to the amazing cinematography . \\nthe second act is as immersive , brilliant , and haunting as any film that i have ever seen . \\nthe only problems come during the first and third acts . \\nmalick takes a little too long to get the film started . \\nalthough the initial scenes - which consist of two soldiers\\' experiencing a near-eden-like paradise while going awol , and the preperations for battle - are effective and necessary , hints of pretentiousness sink in . \\nthe film is just a tad too artsy near the beginning , and a lot of people that disliked the movie probably gave up on it because of this . \\nthe final act is effective at winding the film down , but the problems from the first persist - it\\'s a bit too long , and comes over as pretentious at times . \\nthat said , there are two sequences ( one where a soldier gets a devastating note from his wife , and another where one of the main characters is killed ) that are nothing short of incredible . \\nthe performances are phenominal all around . \\nthe two standouts are nick nolte and newcomer jim caviezel , both of whom should have been nominated for oscars . \\nnolte is riveting and intense as the colonel in charge of the operation . \\nhis character is hard , mean , and somewhat reckless with the lives of his men , and yet nolte somehow manages to evoke sympathy for him . \\ncaviezel is forever questioning the nature of war , his place in it , and if there\\'s any deeper meaning to the hell that he\\'s going through . \\nhe is absolutely perfect - genuine , sympathetic , sincere , and yet strong when he needs to be . \\nalthough restricted to a relatively small role , sean penn is also very good as the company\\'s pessimistic seargent . \\nas to how it stacks up to \" saving private ryan \" - it was my second favorite movie of 1998 , \" ryan \" was my first . \\nit\\'s really hard to compare the two - they are so , so different - so i won\\'t , beyond saying that spielberg\\'s film had more of an impact on me . \\nhowever , the two are comparable from the standpoint of quality ( i can easily see why someone would \" the thin red line \" above \" ryan ) . \\ni highly recommend both of them , and consider them to be the two best war movies ever made . \\nall in all , \" the thin red line \" is filmmaking of an incredibly high order . \\nit\\'s slight faults are easily offset by the sheer brilliance of what is done right . \\nit\\'s a real shame that it tanked at the box office - films this unconventional , powerful , and thought-provoking don\\'t come along very often . \\n']"
      ]
     },
     "execution_count": 51,
     "metadata": {},
     "output_type": "execute_result"
    }
   ],
   "source": [
    "X_train_text.tolist()[:2]"
   ]
  },
  {
   "cell_type": "code",
   "execution_count": 16,
   "metadata": {
    "colab": {},
    "colab_type": "code",
    "id": "v6zzBTrYyjFi"
   },
   "outputs": [],
   "source": [
    "# Limpieza del texto\n",
    "def clean_text(text):\n",
    "  # En este caso particular no hace falta limpiar los textos\n",
    "  return text.strip()"
   ]
  },
  {
   "cell_type": "code",
   "execution_count": 17,
   "metadata": {
    "colab": {},
    "colab_type": "code",
    "id": "aERYr-AhyjFl"
   },
   "outputs": [],
   "source": [
    "def tokenizer(text):\n",
    "    #return [w for w in word_tokenize(text) if w.isalpha()] # si solo nos interesan palabras\n",
    "    return word_tokenize(text)"
   ]
  },
  {
   "cell_type": "code",
   "execution_count": 18,
   "metadata": {},
   "outputs": [
    {
     "data": {
      "text/plain": [
       "['i',\n",
       " 'have',\n",
       " 'to',\n",
       " 'admit',\n",
       " 'that',\n",
       " 'i',\n",
       " 'disliked',\n",
       " 'this',\n",
       " 'film',\n",
       " 'initially']"
      ]
     },
     "execution_count": 18,
     "metadata": {},
     "output_type": "execute_result"
    }
   ],
   "source": [
    "tokenizer(clean_text(X_train_text.iloc[1]))[:10]"
   ]
  },
  {
   "cell_type": "markdown",
   "metadata": {
    "colab_type": "text",
    "id": "DzYVPvRoyjFn"
   },
   "source": [
    "## extraccion de Features\n"
   ]
  },
  {
   "cell_type": "code",
   "execution_count": 19,
   "metadata": {
    "colab": {},
    "colab_type": "code",
    "id": "rsN2X11kyjFo"
   },
   "outputs": [],
   "source": [
    "?CountVectorizer"
   ]
  },
  {
   "cell_type": "code",
   "execution_count": 20,
   "metadata": {
    "colab": {},
    "colab_type": "code",
    "id": "LXbPWPJ4yjFr"
   },
   "outputs": [
    {
     "data": {
      "text/plain": [
       "<1600x11496 sparse matrix of type '<class 'numpy.int64'>'\n",
       "\twith 358789 stored elements in Compressed Sparse Row format>"
      ]
     },
     "execution_count": 20,
     "metadata": {},
     "output_type": "execute_result"
    }
   ],
   "source": [
    "count_vect = CountVectorizer(preprocessor=clean_text, tokenizer=tokenizer, min_df=5,stop_words=\"english\")\n",
    "X_train = count_vect.fit_transform(X_train_text) # cuenta frecuencia de tokens y define el diccionario\n",
    "X_test = count_vect.transform(X_test_text) # cuenta frecuencia de tokens existentes en el diccionario\n",
    "X_train"
   ]
  },
  {
   "cell_type": "code",
   "execution_count": 52,
   "metadata": {},
   "outputs": [],
   "source": [
    "?count_vect.get_feature_names"
   ]
  },
  {
   "cell_type": "code",
   "execution_count": 21,
   "metadata": {
    "colab": {},
    "colab_type": "code",
    "id": "udEPCpqOyjFu"
   },
   "outputs": [
    {
     "data": {
      "text/plain": [
       "['!',\n",
       " '#',\n",
       " '$',\n",
       " '%',\n",
       " '&',\n",
       " \"'\",\n",
       " \"'60s\",\n",
       " \"'70s\",\n",
       " \"'80s\",\n",
       " \"'90s\",\n",
       " \"'97\",\n",
       " \"'cause\",\n",
       " \"'d\",\n",
       " \"'em\",\n",
       " \"'ll\",\n",
       " \"'m\",\n",
       " \"'re\",\n",
       " \"'s\",\n",
       " \"'the\",\n",
       " \"'ve\"]"
      ]
     },
     "execution_count": 21,
     "metadata": {},
     "output_type": "execute_result"
    }
   ],
   "source": [
    "count_vect.get_feature_names()[:20]"
   ]
  },
  {
   "cell_type": "markdown",
   "metadata": {
    "colab_type": "text",
    "id": "sOiwd-yLyjFw"
   },
   "source": [
    "# Naive Bayes"
   ]
  },
  {
   "cell_type": "code",
   "execution_count": 22,
   "metadata": {
    "colab": {},
    "colab_type": "code",
    "id": "qTtGF6wByjFx"
   },
   "outputs": [
    {
     "data": {
      "text/plain": [
       "array([0.78746679, 0.83092638, 0.79971835, 0.84962406, 0.83119065,\n",
       "       0.75601173, 0.81176471, 0.80618186, 0.77485929, 0.8125    ])"
      ]
     },
     "execution_count": 22,
     "metadata": {},
     "output_type": "execute_result"
    }
   ],
   "source": [
    "clf = MultinomialNB(alpha=1) # alpha es el smoothing parameter\n",
    "scores_cv_nb = cross_val_score(clf,X_train, y_train,cv = 10, scoring='f1_macro')\n",
    "scores_cv_nb\n"
   ]
  },
  {
   "cell_type": "code",
   "execution_count": 23,
   "metadata": {
    "colab": {},
    "colab_type": "code",
    "id": "JkwvOqBzyjF0"
   },
   "outputs": [
    {
     "name": "stdout",
     "output_type": "stream",
     "text": [
      "f-score= 0.806  ( sd = 0.0266 )\n"
     ]
    }
   ],
   "source": [
    "print(\"f-score=\",round(scores_cv_nb.mean(),4),\" ( sd =\",round(scores_cv_nb.std(),4),\")\")"
   ]
  },
  {
   "cell_type": "markdown",
   "metadata": {
    "colab_type": "text",
    "id": "Jl2rm838yjF3"
   },
   "source": [
    "### Dummy"
   ]
  },
  {
   "cell_type": "code",
   "execution_count": null,
   "metadata": {
    "colab": {},
    "colab_type": "code",
    "id": "STxi-xabQuaq"
   },
   "outputs": [],
   "source": []
  },
  {
   "cell_type": "code",
   "execution_count": 25,
   "metadata": {
    "colab": {},
    "colab_type": "code",
    "id": "4M5QdhS5yjF4"
   },
   "outputs": [
    {
     "name": "stdout",
     "output_type": "stream",
     "text": [
      "f-score= 0.5025 +/- 0.0423\n"
     ]
    },
    {
     "name": "stderr",
     "output_type": "stream",
     "text": [
      "/home/ddellera/p3/lib/python3.5/site-packages/sklearn/dummy.py:227: FutureWarning: arrays to stack must be passed as a \"sequence\" type such as list or tuple. Support for non-sequence iterables such as generators is deprecated as of NumPy 1.16 and will raise an error in the future.\n",
      "  k in range(self.n_outputs_)).T\n",
      "/home/ddellera/p3/lib/python3.5/site-packages/sklearn/dummy.py:227: FutureWarning: arrays to stack must be passed as a \"sequence\" type such as list or tuple. Support for non-sequence iterables such as generators is deprecated as of NumPy 1.16 and will raise an error in the future.\n",
      "  k in range(self.n_outputs_)).T\n",
      "/home/ddellera/p3/lib/python3.5/site-packages/sklearn/dummy.py:227: FutureWarning: arrays to stack must be passed as a \"sequence\" type such as list or tuple. Support for non-sequence iterables such as generators is deprecated as of NumPy 1.16 and will raise an error in the future.\n",
      "  k in range(self.n_outputs_)).T\n",
      "/home/ddellera/p3/lib/python3.5/site-packages/sklearn/dummy.py:227: FutureWarning: arrays to stack must be passed as a \"sequence\" type such as list or tuple. Support for non-sequence iterables such as generators is deprecated as of NumPy 1.16 and will raise an error in the future.\n",
      "  k in range(self.n_outputs_)).T\n",
      "/home/ddellera/p3/lib/python3.5/site-packages/sklearn/dummy.py:227: FutureWarning: arrays to stack must be passed as a \"sequence\" type such as list or tuple. Support for non-sequence iterables such as generators is deprecated as of NumPy 1.16 and will raise an error in the future.\n",
      "  k in range(self.n_outputs_)).T\n",
      "/home/ddellera/p3/lib/python3.5/site-packages/sklearn/dummy.py:227: FutureWarning: arrays to stack must be passed as a \"sequence\" type such as list or tuple. Support for non-sequence iterables such as generators is deprecated as of NumPy 1.16 and will raise an error in the future.\n",
      "  k in range(self.n_outputs_)).T\n",
      "/home/ddellera/p3/lib/python3.5/site-packages/sklearn/dummy.py:227: FutureWarning: arrays to stack must be passed as a \"sequence\" type such as list or tuple. Support for non-sequence iterables such as generators is deprecated as of NumPy 1.16 and will raise an error in the future.\n",
      "  k in range(self.n_outputs_)).T\n",
      "/home/ddellera/p3/lib/python3.5/site-packages/sklearn/dummy.py:227: FutureWarning: arrays to stack must be passed as a \"sequence\" type such as list or tuple. Support for non-sequence iterables such as generators is deprecated as of NumPy 1.16 and will raise an error in the future.\n",
      "  k in range(self.n_outputs_)).T\n",
      "/home/ddellera/p3/lib/python3.5/site-packages/sklearn/dummy.py:227: FutureWarning: arrays to stack must be passed as a \"sequence\" type such as list or tuple. Support for non-sequence iterables such as generators is deprecated as of NumPy 1.16 and will raise an error in the future.\n",
      "  k in range(self.n_outputs_)).T\n",
      "/home/ddellera/p3/lib/python3.5/site-packages/sklearn/dummy.py:227: FutureWarning: arrays to stack must be passed as a \"sequence\" type such as list or tuple. Support for non-sequence iterables such as generators is deprecated as of NumPy 1.16 and will raise an error in the future.\n",
      "  k in range(self.n_outputs_)).T\n"
     ]
    }
   ],
   "source": [
    "clf_dummy = DummyClassifier()\n",
    "scores_dummy_cv = cross_val_score(clf_dummy,X_train, y_train,cv = 10, scoring='f1_macro')\n",
    "print(\"f-score=\",round(scores_dummy_cv.mean(),4),\"+/-\",round(scores_dummy_cv.std(),4))"
   ]
  },
  {
   "cell_type": "markdown",
   "metadata": {
    "colab_type": "text",
    "id": "lEqeD1EfyjF6"
   },
   "source": [
    "## N-gramas"
   ]
  },
  {
   "cell_type": "code",
   "execution_count": 26,
   "metadata": {
    "colab": {},
    "colab_type": "code",
    "id": "JVCz6XuPyjF7"
   },
   "outputs": [
    {
     "name": "stdout",
     "output_type": "stream",
     "text": [
      "numero de features= 26189\n",
      "f-score= 0.8023  ( sd = 0.028 )\n"
     ]
    }
   ],
   "source": [
    "# incluyo bigramas (aclaracion:si aparece \"best friend\" tambien va a contar para \"best\" y para \"friend\")\n",
    "count_vect = CountVectorizer(preprocessor=clean_text, tokenizer=tokenizer, min_df=5,stop_words=\"english\",ngram_range=(1,2))\n",
    "X_train_ngrams = count_vect.fit_transform(X_train_text) # cuenta frecuencia de tokens y define el diccionario\n",
    "print(\"numero de features=\",X_train_ngrams.shape[1])\n",
    "\n",
    "scores_cv_ngrams = cross_val_score(clf,X_train_ngrams, y_train,cv = 10, scoring='f1_macro')\n",
    "print(\"f-score=\",round(scores_cv_ngrams.mean(),4),\" ( sd =\",round(scores_cv_ngrams.std(),4),\")\")"
   ]
  },
  {
   "cell_type": "code",
   "execution_count": 54,
   "metadata": {
    "colab": {},
    "colab_type": "code",
    "id": "0rPCNpg1yjF-"
   },
   "outputs": [
    {
     "data": {
      "text/plain": [
       "['beating', 'beats', 'beatty', 'beau', 'beautiful']"
      ]
     },
     "execution_count": 54,
     "metadata": {},
     "output_type": "execute_result"
    }
   ],
   "source": [
    "count_vect.get_feature_names()[1000:1005]"
   ]
  },
  {
   "cell_type": "markdown",
   "metadata": {
    "colab_type": "text",
    "id": "8SDbY0PTyjGB"
   },
   "source": [
    "### Pruebo otros parametros"
   ]
  },
  {
   "cell_type": "code",
   "execution_count": 28,
   "metadata": {
    "colab": {},
    "colab_type": "code",
    "id": "vrWSyqreyjGB"
   },
   "outputs": [
    {
     "name": "stdout",
     "output_type": "stream",
     "text": [
      "numero de features= 3655\n",
      "f-score= 0.8036  ( sd = 0.0159 )\n"
     ]
    }
   ],
   "source": [
    "# incluyo bigramas (aclaracion:si aparece \"best friend\" tambien va a contar para \"best\" y para \"friend\")\n",
    "count_vect = CountVectorizer(preprocessor=clean_text, tokenizer=tokenizer, min_df=30, stop_words=\"english\",ngram_range=(1,2))\n",
    "X_train_ngrams = count_vect.fit_transform(X_train_text) # cuenta frecuencia de tokens y define el diccionario\n",
    "print(\"numero de features=\",X_train_ngrams.shape[1])\n",
    "\n",
    "clf = MultinomialNB(alpha=1)\n",
    "scores_cv_ngrams_v2 = cross_val_score(clf,X_train_ngrams, y_train,cv = 10, scoring='f1_macro')\n",
    "print(\"f-score=\",round(scores_cv_ngrams_v2.mean(),4),\" ( sd =\",round(scores_cv_ngrams_v2.std(),4),\")\")"
   ]
  },
  {
   "cell_type": "markdown",
   "metadata": {
    "colab_type": "text",
    "id": "lYdfC9aJyjGG"
   },
   "source": [
    "## Selecciono el mejor modelo"
   ]
  },
  {
   "cell_type": "code",
   "execution_count": 29,
   "metadata": {
    "colab": {},
    "colab_type": "code",
    "id": "ohvoqk2eRaZH"
   },
   "outputs": [
    {
     "data": {
      "text/plain": [
       "NB (mindf=5)                 0.806\n",
       "NB with ngrams (mindf=30)    0.804\n",
       "NB with ngrams (mindf=5)     0.802\n",
       "dtype: float64"
      ]
     },
     "execution_count": 29,
     "metadata": {},
     "output_type": "execute_result"
    }
   ],
   "source": [
    "pd.Series({'NB (mindf=5)':round(scores_cv_nb.mean(),3),'NB with ngrams (mindf=5)':round(scores_cv_ngrams.mean(),3),'NB with ngrams (mindf=30)':round(scores_cv_ngrams_v2.mean(),3)})"
   ]
  },
  {
   "cell_type": "code",
   "execution_count": 30,
   "metadata": {
    "colab": {},
    "colab_type": "code",
    "id": "i4br-uv8yjGH"
   },
   "outputs": [
    {
     "name": "stdout",
     "output_type": "stream",
     "text": [
      "numero de features= 11496\n",
      "matriz de confusión\n",
      " [[170  30]\n",
      " [ 44 156]]\n",
      "\n",
      "Ngrams\n",
      "\n",
      "precision    0.816551\n",
      "recall       0.815000\n",
      "fscore       0.814773\n",
      "dtype: float64\n"
     ]
    }
   ],
   "source": [
    "# incluyo bigramas (aclaracion:si aparece \"best friend\" tambien va a contar para \"best\" y para \"friend\")\n",
    "count_vect = CountVectorizer(preprocessor=clean_text, tokenizer=tokenizer, min_df=5,stop_words=\"english\",ngram_range=(1,1))\n",
    "X_train_ngrams = count_vect.fit_transform(X_train_text) # cuenta frecuencia de tokens y define el diccionario\n",
    "X_test_ngrams = count_vect.transform(X_test_text) # cuenta frecuencia de tokens existentes en el diccionario\n",
    "print(\"numero de features=\",X_train_ngrams.shape[1])\n",
    "# entreno el clasificador\n",
    "clf = MultinomialNB(alpha=1).fit(X_train_ngrams, y_train)\n",
    "# predigo en el set de testeo\n",
    "y_pred = clf.predict(X_test_ngrams)\n",
    "scores_ngrams = pd.Series(precision_recall_fscore_support(y_test, y_pred,average=\"macro\")[:3],index=[\"precision\",\"recall\",\"fscore\"])\n",
    "print(\"matriz de confusión\\n\",confusion_matrix(y_test, y_pred))\n",
    "\n",
    "print(\"\\nNgrams\\n\")\n",
    "print(scores_ngrams)"
   ]
  },
  {
   "cell_type": "code",
   "execution_count": null,
   "metadata": {
    "colab": {},
    "colab_type": "code",
    "id": "IoR31oK5yjGM"
   },
   "outputs": [],
   "source": []
  },
  {
   "cell_type": "markdown",
   "metadata": {
    "colab_type": "text",
    "id": "mv3qN7CpyjGR"
   },
   "source": [
    "##  Normalización"
   ]
  },
  {
   "cell_type": "code",
   "execution_count": 31,
   "metadata": {
    "colab": {},
    "colab_type": "code",
    "id": "Mu6ZdMwKyjGU"
   },
   "outputs": [
    {
     "data": {
      "text/plain": [
       "'explan'"
      ]
     },
     "execution_count": 31,
     "metadata": {},
     "output_type": "execute_result"
    }
   ],
   "source": [
    "# Stemizacion: lleva una palabra a su raíz (la cual puede no ser una palabra) \n",
    "from nltk.stem import SnowballStemmer\n",
    "stemmer = SnowballStemmer(\"english\")\n",
    "stemmer.stem(\"explanation\")"
   ]
  },
  {
   "cell_type": "code",
   "execution_count": 32,
   "metadata": {
    "colab": {},
    "colab_type": "code",
    "id": "mWVZLcMnyjGX"
   },
   "outputs": [
    {
     "data": {
      "text/plain": [
       "[('wolfgang', 'wolfgang'),\n",
       " ('petersen', 'petersen'),\n",
       " ('latest', 'latest'),\n",
       " ('the', 'the'),\n",
       " ('perfect', 'perfect'),\n",
       " ('storm', 'storm'),\n",
       " ('is', 'is'),\n",
       " ('like', 'like'),\n",
       " ('a', 'a'),\n",
       " ('pineapple', 'pineappl'),\n",
       " ('it', 'it'),\n",
       " ('only', 'onli'),\n",
       " ('tastes', 'tast'),\n",
       " ('good', 'good'),\n",
       " ('after', 'after'),\n",
       " ('arduous', 'arduous'),\n",
       " ('peeling', 'peel'),\n",
       " ('and', 'and'),\n",
       " ('digging', 'dig'),\n",
       " ('if', 'if'),\n",
       " ('you', 'you'),\n",
       " ('try', 'tri'),\n",
       " ('to', 'to'),\n",
       " ('eat', 'eat'),\n",
       " ('the', 'the'),\n",
       " ('fruit', 'fruit'),\n",
       " ('spikes', 'spike'),\n",
       " ('and', 'and'),\n",
       " ('all', 'all'),\n",
       " ('it', 'it'),\n",
       " ('going', 'go'),\n",
       " ('to', 'to'),\n",
       " ('hurt', 'hurt'),\n",
       " ('quite', 'quit'),\n",
       " ('a', 'a'),\n",
       " ('bit', 'bit'),\n",
       " ('ok', 'ok'),\n",
       " ('maybe', 'mayb'),\n",
       " ('that', 'that'),\n",
       " ('was', 'was'),\n",
       " ('a', 'a'),\n",
       " ('confusing', 'confus'),\n",
       " ('analogy', 'analog'),\n",
       " ('so', 'so'),\n",
       " ('here', 'here'),\n",
       " ('my', 'my'),\n",
       " ('main', 'main'),\n",
       " ('complaint', 'complaint'),\n",
       " ('about', 'about'),\n",
       " ('the', 'the'),\n",
       " ('latest', 'latest'),\n",
       " ('man', 'man'),\n",
       " ('battles', 'battl'),\n",
       " ('nature', 'natur'),\n",
       " ('flick', 'flick'),\n",
       " ('there', 'there'),\n",
       " ('is', 'is'),\n",
       " ('really', 'realli'),\n",
       " ('much', 'much'),\n",
       " ('of', 'of'),\n",
       " ('a', 'a'),\n",
       " ('story', 'stori'),\n",
       " ('to', 'to'),\n",
       " ('tell', 'tell'),\n",
       " ('basically', 'basic'),\n",
       " ('a', 'a'),\n",
       " ('massachusetts', 'massachusett'),\n",
       " ('fishing', 'fish'),\n",
       " ('crew', 'crew'),\n",
       " ('goes', 'goe'),\n",
       " ('out', 'out'),\n",
       " ('to', 'to'),\n",
       " ('sea', 'sea'),\n",
       " ('on', 'on'),\n",
       " ('a', 'a'),\n",
       " ('small', 'small'),\n",
       " ('boat', 'boat'),\n",
       " ('called', 'call'),\n",
       " ('the', 'the'),\n",
       " ('andrea', 'andrea'),\n",
       " ('gail', 'gail'),\n",
       " ('and', 'and'),\n",
       " ('gets', 'get'),\n",
       " ('stuck', 'stuck'),\n",
       " ('in', 'in'),\n",
       " ('the', 'the'),\n",
       " ('middle', 'middl'),\n",
       " ('of', 'of'),\n",
       " ('the', 'the'),\n",
       " ('storm', 'storm'),\n",
       " ('of', 'of'),\n",
       " ('the', 'the'),\n",
       " ('century', 'centuri'),\n",
       " ('how', 'how'),\n",
       " ('much', 'much'),\n",
       " ('time', 'time'),\n",
       " ('does', 'doe'),\n",
       " ('it', 'it'),\n",
       " ('take', 'take'),\n",
       " ('for', 'for'),\n",
       " ('petersen', 'petersen'),\n",
       " ('to', 'to'),\n",
       " ('tell', 'tell'),\n",
       " ('this', 'this'),\n",
       " ('story', 'stori'),\n",
       " ('not', 'not'),\n",
       " ('nearly', 'near'),\n",
       " ('enough', 'enough'),\n",
       " ('so', 'so'),\n",
       " ('he', 'he'),\n",
       " ('spends', 'spend'),\n",
       " ('the', 'the'),\n",
       " ('majority', 'major'),\n",
       " ('of', 'of'),\n",
       " ('the', 'the'),\n",
       " ('film', 'film'),\n",
       " ('developing', 'develop'),\n",
       " ('pointless', 'pointless'),\n",
       " ('side', 'side'),\n",
       " ('stories', 'stori'),\n",
       " ('which', 'which'),\n",
       " ('all', 'all'),\n",
       " ('eventually', 'eventu'),\n",
       " ('become', 'becom'),\n",
       " ('superfluous', 'superflu'),\n",
       " ('audiences', 'audienc'),\n",
       " ('want', 'want'),\n",
       " ('to', 'to'),\n",
       " ('see', 'see'),\n",
       " ('the', 'the'),\n",
       " ('storm', 'storm'),\n",
       " ('they', 'they'),\n",
       " ('want', 'want'),\n",
       " ('to', 'to'),\n",
       " ('see', 'see'),\n",
       " ('a', 'a'),\n",
       " ('fight', 'fight'),\n",
       " ('for', 'for'),\n",
       " ('survival', 'surviv'),\n",
       " ('but', 'but'),\n",
       " ('what', 'what'),\n",
       " ('they', 'they'),\n",
       " ('get', 'get'),\n",
       " ('is', 'is'),\n",
       " ('a', 'a'),\n",
       " ('lot', 'lot'),\n",
       " ('of', 'of'),\n",
       " ('cliched', 'clich'),\n",
       " ('maudlin', 'maudlin'),\n",
       " ('drivel', 'drivel'),\n",
       " ('the', 'the'),\n",
       " ('last', 'last'),\n",
       " ('quarter', 'quarter'),\n",
       " ('of', 'of'),\n",
       " ('the', 'the'),\n",
       " ('perfect', 'perfect'),\n",
       " ('storm', 'storm'),\n",
       " ('is', 'is'),\n",
       " ('utterly', 'utter'),\n",
       " ('perfect', 'perfect'),\n",
       " ('in', 'in'),\n",
       " ('every', 'everi'),\n",
       " ('aspect', 'aspect'),\n",
       " ('but', 'but'),\n",
       " ('just', 'just'),\n",
       " ('try', 'tri'),\n",
       " ('lasting', 'last'),\n",
       " ('the', 'the'),\n",
       " ('first', 'first'),\n",
       " ('i', 'i'),\n",
       " ('have', 'have'),\n",
       " ('yet', 'yet'),\n",
       " ('to', 'to'),\n",
       " ('read', 'read'),\n",
       " ('sebastian', 'sebastian'),\n",
       " ('junger', 'junger'),\n",
       " ('the', 'the'),\n",
       " ('perfect', 'perfect'),\n",
       " ('storm', 'storm'),\n",
       " ('but', 'but'),\n",
       " ('from', 'from'),\n",
       " ('what', 'what'),\n",
       " ('i', 'i'),\n",
       " ('have', 'have'),\n",
       " ('heard', 'heard'),\n",
       " ('it', 'it'),\n",
       " ('is', 'is'),\n",
       " ('an', 'an'),\n",
       " ('unforgettable', 'unforgett'),\n",
       " ('tale', 'tale'),\n",
       " ('based', 'base'),\n",
       " ('on', 'on'),\n",
       " ('a', 'a'),\n",
       " ('true', 'true'),\n",
       " ('story', 'stori'),\n",
       " ('the', 'the'),\n",
       " ('book', 'book'),\n",
       " ('must', 'must'),\n",
       " ('have', 'have'),\n",
       " ('found', 'found'),\n",
       " ('some', 'some'),\n",
       " ('other', 'other'),\n",
       " ('way', 'way'),\n",
       " ('to', 'to'),\n",
       " ('introduce', 'introduc'),\n",
       " ('the', 'the'),\n",
       " ('characters', 'charact'),\n",
       " ('because', 'becaus'),\n",
       " ('in', 'in'),\n",
       " ('the', 'the'),\n",
       " ('movie', 'movi'),\n",
       " ('version', 'version'),\n",
       " ('the', 'the'),\n",
       " ('approach', 'approach'),\n",
       " ('is', 'is'),\n",
       " ('weak', 'weak'),\n",
       " ('using', 'use'),\n",
       " ('a', 'a'),\n",
       " ('wonderfully', 'wonder'),\n",
       " ('patriotic', 'patriot'),\n",
       " ('score', 'score'),\n",
       " ('by', 'by'),\n",
       " ('james', 'jame'),\n",
       " ('horner', 'horner'),\n",
       " ('petersen', 'petersen'),\n",
       " ('almost', 'almost'),\n",
       " ('hides', 'hide'),\n",
       " ('the', 'the'),\n",
       " ('banality', 'banal'),\n",
       " ('right', 'right'),\n",
       " ('away', 'away'),\n",
       " ('the', 'the'),\n",
       " ('central', 'central'),\n",
       " ('characters', 'charact'),\n",
       " ('are', 'are'),\n",
       " ('introduced', 'introduc'),\n",
       " ('the', 'the'),\n",
       " ('gritty', 'gritti'),\n",
       " ('determined', 'determin'),\n",
       " ('captain', 'captain'),\n",
       " ('george', 'georg'),\n",
       " ('clooney', 'clooney'),\n",
       " ('the', 'the'),\n",
       " ('ingenue', 'ingenu'),\n",
       " ('mark', 'mark'),\n",
       " ('wahlberg', 'wahlberg'),\n",
       " ('torn', 'torn'),\n",
       " ('between', 'between'),\n",
       " ('his', 'his'),\n",
       " ('job', 'job'),\n",
       " ('and', 'and'),\n",
       " ('his', 'his'),\n",
       " ('girlfriend', 'girlfriend'),\n",
       " ('diane', 'dian'),\n",
       " ('lane', 'lane'),\n",
       " ('the', 'the'),\n",
       " ('loving', 'love'),\n",
       " ('father', 'father'),\n",
       " ('john', 'john'),\n",
       " ('c', 'c'),\n",
       " ('reilly', 'reilli'),\n",
       " ('the', 'the'),\n",
       " ('comic', 'comic'),\n",
       " ('relief', 'relief'),\n",
       " ('who', 'who'),\n",
       " ('always', 'alway'),\n",
       " ('trying', 'tri'),\n",
       " ('to', 'to'),\n",
       " ('get', 'get'),\n",
       " ('laid', 'laid'),\n",
       " ('john', 'john'),\n",
       " ('hawkes', 'hawk'),\n",
       " ('the', 'the'),\n",
       " ('new', 'new'),\n",
       " ('guy', 'guy'),\n",
       " ('william', 'william'),\n",
       " ('fichtner', 'fichtner'),\n",
       " ('who', 'who'),\n",
       " ('immediately', 'immedi'),\n",
       " ('antagonizes', 'antagon'),\n",
       " ('a', 'a'),\n",
       " ('crewmate', 'crewmat'),\n",
       " ('and', 'and'),\n",
       " ('the', 'the'),\n",
       " ('quiet', 'quiet'),\n",
       " ('french', 'french'),\n",
       " ('guy', 'guy'),\n",
       " ('allen', 'allen'),\n",
       " ('payne', 'payn'),\n",
       " ('so', 'so'),\n",
       " ('many', 'mani'),\n",
       " ('problems', 'problem'),\n",
       " ('strike', 'strike'),\n",
       " ('the', 'the'),\n",
       " ('opening', 'open'),\n",
       " ('segment', 'segment'),\n",
       " ('of', 'of'),\n",
       " ('the', 'the'),\n",
       " ('film', 'film'),\n",
       " ('that', 'that'),\n",
       " ('the', 'the'),\n",
       " ('remaining', 'remain'),\n",
       " ('portions', 'portion'),\n",
       " ('directly', 'direct'),\n",
       " ('suffer', 'suffer'),\n",
       " ('it', 'it'),\n",
       " ('is', 'is'),\n",
       " ('not', 'not'),\n",
       " ('the', 'the'),\n",
       " ('cast', 'cast'),\n",
       " ('fault', 'fault'),\n",
       " ('just', 'just'),\n",
       " ('the', 'the'),\n",
       " ('characters', 'charact'),\n",
       " ('designed', 'design'),\n",
       " ('for', 'for'),\n",
       " ('their', 'their'),\n",
       " ('portrayal', 'portray'),\n",
       " ('allen', 'allen'),\n",
       " ('payne', 'payn'),\n",
       " ('character', 'charact'),\n",
       " ('never', 'never'),\n",
       " ('speaks', 'speak'),\n",
       " ('in', 'in'),\n",
       " ('the', 'the'),\n",
       " ('entire', 'entir'),\n",
       " ('movie', 'movi'),\n",
       " ('not', 'not'),\n",
       " ('because', 'becaus'),\n",
       " ('he', 'he'),\n",
       " ('is', 'is'),\n",
       " ('mute', 'mute'),\n",
       " ('but', 'but'),\n",
       " ('because', 'becaus'),\n",
       " ('he', 'he'),\n",
       " ('never', 'never'),\n",
       " ('given', 'given'),\n",
       " ('any', 'ani'),\n",
       " ('lines', 'line'),\n",
       " ('are', 'are'),\n",
       " ('we', 'we'),\n",
       " ('supposed', 'suppos'),\n",
       " ('to', 'to'),\n",
       " ('root', 'root'),\n",
       " ('for', 'for'),\n",
       " ('a', 'a'),\n",
       " ('guy', 'guy'),\n",
       " ('whose', 'whose'),\n",
       " ('face', 'face'),\n",
       " ('and', 'and'),\n",
       " ('voice', 'voic'),\n",
       " ('we', 'we'),\n",
       " ('are', 'are'),\n",
       " ('never', 'never'),\n",
       " ('given', 'given'),\n",
       " ('a', 'a'),\n",
       " ('chance', 'chanc'),\n",
       " ('to', 'to'),\n",
       " ('interact', 'interact'),\n",
       " ('with', 'with'),\n",
       " ('fichtner', 'fichtner'),\n",
       " ('character', 'charact'),\n",
       " ('is', 'is'),\n",
       " ('terribly', 'terribl'),\n",
       " ('underdeveloped', 'underdevelop'),\n",
       " ('we', 'we'),\n",
       " ('do', 'do'),\n",
       " ('know', 'know'),\n",
       " ('what', 'what'),\n",
       " ('he', 'he'),\n",
       " ('doing', 'do'),\n",
       " ('there', 'there'),\n",
       " ('where', 'where'),\n",
       " ('he', 'he'),\n",
       " ('from', 'from'),\n",
       " ('or', 'or'),\n",
       " ('who', 'who'),\n",
       " ('he', 'he'),\n",
       " ('supposed', 'suppos'),\n",
       " ('to', 'to'),\n",
       " ('be', 'be'),\n",
       " ('the', 'the'),\n",
       " ('remaining', 'remain'),\n",
       " ('four', 'four'),\n",
       " ('fishermen', 'fishermen'),\n",
       " ('are', 'are'),\n",
       " ('all', 'all'),\n",
       " ('cardboard', 'cardboard'),\n",
       " ('stereotypes', 'stereotyp'),\n",
       " ('hawkes', 'hawk'),\n",
       " ('says', 'say'),\n",
       " ('to', 'to'),\n",
       " ('a', 'a'),\n",
       " ('female', 'femal'),\n",
       " ('stranger', 'stranger'),\n",
       " ('in', 'in'),\n",
       " ('one', 'one'),\n",
       " ('scene', 'scene'),\n",
       " ('you', 'you'),\n",
       " ('know', 'know'),\n",
       " ('what', 'what'),\n",
       " ('would', 'would'),\n",
       " ('look', 'look'),\n",
       " ('good', 'good'),\n",
       " ('on', 'on'),\n",
       " ('you', 'you'),\n",
       " ('me', 'me'),\n",
       " ('ooooh', 'ooooh'),\n",
       " ('real', 'real'),\n",
       " ('creative', 'creativ'),\n",
       " ('as', 'as'),\n",
       " ('the', 'the'),\n",
       " ('script', 'script'),\n",
       " ('advances', 'advanc'),\n",
       " ('and', 'and'),\n",
       " ('the', 'the'),\n",
       " ('andrea', 'andrea'),\n",
       " ('gail', 'gail'),\n",
       " ('floats', 'float'),\n",
       " ('farther', 'farther'),\n",
       " ('out', 'out'),\n",
       " ('into', 'into'),\n",
       " ('the', 'the'),\n",
       " ('waters', 'water'),\n",
       " ('the', 'the'),\n",
       " ('crew', 'crew'),\n",
       " ('continues', 'continu'),\n",
       " ('to', 'to'),\n",
       " ('not', 'not'),\n",
       " ('feel', 'feel'),\n",
       " ('human', 'human'),\n",
       " ('only', 'onli'),\n",
       " ('when', 'when'),\n",
       " ('the', 'the'),\n",
       " ('storm', 'storm'),\n",
       " ('takes', 'take'),\n",
       " ('center', 'center'),\n",
       " ('stage', 'stage'),\n",
       " ('does', 'doe'),\n",
       " ('the', 'the'),\n",
       " ('movie', 'movi'),\n",
       " ('jump', 'jump'),\n",
       " ('out', 'out'),\n",
       " ('of', 'of'),\n",
       " ('its', 'it'),\n",
       " ('sleepwalk', 'sleepwalk'),\n",
       " ('the', 'the'),\n",
       " ('images', 'imag'),\n",
       " ('of', 'of'),\n",
       " ('gigantic', 'gigant'),\n",
       " ('waves', 'wave'),\n",
       " ('crashing', 'crash'),\n",
       " ('against', 'against'),\n",
       " ('a', 'a'),\n",
       " ('helpless', 'helpless'),\n",
       " ('boat', 'boat'),\n",
       " ('are', 'are'),\n",
       " ('thunderously', 'thunder'),\n",
       " ('real', 'real'),\n",
       " ('i', 'i'),\n",
       " ('can', 'can'),\n",
       " ('only', 'onli'),\n",
       " ('imagine', 'imagin'),\n",
       " ('if', 'if'),\n",
       " ('this', 'this'),\n",
       " ('was', 'was'),\n",
       " ('an', 'an'),\n",
       " ('imax', 'imax'),\n",
       " ('film', 'film'),\n",
       " ('this', 'this'),\n",
       " ('city', 'citi'),\n",
       " ('kid', 'kid'),\n",
       " ('would', 'would'),\n",
       " ('surely', 'sure'),\n",
       " ('never', 'never'),\n",
       " ('go', 'go'),\n",
       " ('in', 'in'),\n",
       " ('the', 'the'),\n",
       " ('water', 'water'),\n",
       " ('again', 'again'),\n",
       " ('this', 'this'),\n",
       " ('is', 'is'),\n",
       " ('loud', 'loud'),\n",
       " ('jolting', 'jolt'),\n",
       " ('entertainment', 'entertain'),\n",
       " ('adjectives', 'adject'),\n",
       " ('that', 'that'),\n",
       " ('completely', 'complet'),\n",
       " ('negate', 'negat'),\n",
       " ('the', 'the'),\n",
       " ('rest', 'rest'),\n",
       " ('of', 'of'),\n",
       " ('the', 'the'),\n",
       " ('film', 'film'),\n",
       " ('the', 'the'),\n",
       " ('perfect', 'perfect'),\n",
       " ('storm', 'storm'),\n",
       " ('was', 'was'),\n",
       " ('unfortunately', 'unfortun'),\n",
       " ('a', 'a'),\n",
       " ('disappointment', 'disappoint'),\n",
       " ('the', 'the'),\n",
       " ('maelstrom', 'maelstrom'),\n",
       " ('lived', 'live'),\n",
       " ('up', 'up'),\n",
       " ('to', 'to'),\n",
       " ('its', 'it'),\n",
       " ('potential', 'potenti'),\n",
       " ('but', 'but'),\n",
       " ('everything', 'everyth'),\n",
       " ('else', 'els'),\n",
       " ('failed', 'fail'),\n",
       " ('to', 'to'),\n",
       " ('do', 'do'),\n",
       " ('so', 'so'),\n",
       " ('i', 'i'),\n",
       " ('guess', 'guess'),\n",
       " ('i', 'i'),\n",
       " ('stick', 'stick'),\n",
       " ('to', 'to'),\n",
       " ('that', 'that'),\n",
       " ('other', 'other'),\n",
       " ('survival', 'surviv'),\n",
       " ('spectacle', 'spectacl'),\n",
       " ('you', 'you'),\n",
       " ('know', 'know'),\n",
       " ('the', 'the'),\n",
       " ('one', 'one'),\n",
       " ('on', 'on'),\n",
       " ('cbs', 'cbs')]"
      ]
     },
     "execution_count": 32,
     "metadata": {},
     "output_type": "execute_result"
    }
   ],
   "source": [
    "[(w,stemmer.stem(w)) for w in word_tokenize(clean_text(X_train_text.iloc[0])) if w.isalpha()]"
   ]
  },
  {
   "cell_type": "markdown",
   "metadata": {
    "colab_type": "text",
    "id": "ex0trRgkyjGZ"
   },
   "source": [
    "#### notar que \"empathy\" y \"empathize\" no van a la misma raiz!"
   ]
  },
  {
   "cell_type": "code",
   "execution_count": 33,
   "metadata": {
    "colab": {},
    "colab_type": "code",
    "id": "UYJW0IvzyjGa"
   },
   "outputs": [
    {
     "name": "stdout",
     "output_type": "stream",
     "text": [
      "empathi\n",
      "empath\n"
     ]
    }
   ],
   "source": [
    "print(stemmer.stem(\"empathy\"))\n",
    "print(stemmer.stem(\"empathize\"))"
   ]
  },
  {
   "cell_type": "code",
   "execution_count": 34,
   "metadata": {
    "colab": {},
    "colab_type": "code",
    "id": "_RZoFoVyyjGd"
   },
   "outputs": [
    {
     "name": "stderr",
     "output_type": "stream",
     "text": [
      "[nltk_data] Downloading package wordnet to /home/ddellera/nltk_data...\n",
      "[nltk_data]   Package wordnet is already up-to-date!\n",
      "[nltk_data] Downloading package averaged_perceptron_tagger to\n",
      "[nltk_data]     /home/ddellera/nltk_data...\n",
      "[nltk_data]   Package averaged_perceptron_tagger is already up-to-\n",
      "[nltk_data]       date!\n"
     ]
    }
   ],
   "source": [
    "# Lematizacion: lleva una palabra a su forma canónica\n",
    "from nltk import pos_tag\n",
    "from nltk.stem import WordNetLemmatizer\n",
    "from nltk.corpus import wordnet\n",
    "nltk.download('wordnet')\n",
    "nltk.download('averaged_perceptron_tagger')\n",
    "wnl = WordNetLemmatizer()"
   ]
  },
  {
   "cell_type": "code",
   "execution_count": 35,
   "metadata": {
    "colab": {},
    "colab_type": "code",
    "id": "vRvhh5kZyjGg"
   },
   "outputs": [
    {
     "data": {
      "text/plain": [
       "'be'"
      ]
     },
     "execution_count": 35,
     "metadata": {},
     "output_type": "execute_result"
    }
   ],
   "source": [
    "# para lemmatizar es necesario dar la categoria gramatical(part-of-speech)\n",
    "# los POS validos son (\"a\",\"v\",\"n\",\"r\")(adjetivo,verbo,sustantivo,advervio)\n",
    "wnl.lemmatize(word=\"was\",pos=\"v\")"
   ]
  },
  {
   "cell_type": "code",
   "execution_count": 36,
   "metadata": {
    "colab": {},
    "colab_type": "code",
    "id": "Mhel3gblyjGj"
   },
   "outputs": [
    {
     "data": {
      "text/plain": [
       "[('i', 'NNS'),\n",
       " ('have', 'VBP'),\n",
       " ('to', 'TO'),\n",
       " ('admit', 'VB'),\n",
       " ('that', 'IN'),\n",
       " ('i', 'NN'),\n",
       " ('disliked', 'VBD'),\n",
       " ('this', 'DT'),\n",
       " ('film', 'NN'),\n",
       " ('initially', 'RB'),\n",
       " ('.', '.'),\n",
       " ('it', 'PRP'),\n",
       " ('certianly', 'RB'),\n",
       " ('is', 'VBZ'),\n",
       " (\"n't\", 'RB'),\n",
       " ('for', 'IN'),\n",
       " ('every', 'DT'),\n",
       " ('taste', 'NN'),\n",
       " (',', ','),\n",
       " ('and', 'CC'),\n",
       " ('it', 'PRP'),\n",
       " (\"'s\", 'VBZ'),\n",
       " ('sheer', 'JJ'),\n",
       " ('torture', 'NN'),\n",
       " ('to', 'TO'),\n",
       " ('sit', 'VB'),\n",
       " ('through', 'IN'),\n",
       " ('if', 'IN'),\n",
       " ('you', 'PRP'),\n",
       " (\"'re\", 'VBP'),\n",
       " ('in', 'IN'),\n",
       " ('a', 'DT'),\n",
       " ('restless', 'JJ'),\n",
       " ('mood', 'NN'),\n",
       " ('.', '.'),\n",
       " ('that', 'WDT'),\n",
       " ('said', 'VBD'),\n",
       " (',', ','),\n",
       " ('if', 'IN'),\n",
       " ('you', 'PRP'),\n",
       " ('are', 'VBP'),\n",
       " ('in', 'IN'),\n",
       " ('the', 'DT'),\n",
       " ('right', 'JJ'),\n",
       " ('mood', 'NN'),\n",
       " (',', ','),\n",
       " ('it', 'PRP'),\n",
       " (\"'s\", 'VBZ'),\n",
       " ('absolutely', 'RB'),\n",
       " ('incredible', 'JJ'),\n",
       " ('.', '.'),\n",
       " ('this', 'DT'),\n",
       " ('was', 'VBD'),\n",
       " ('my', 'PRP$'),\n",
       " ('second', 'JJ'),\n",
       " ('favorite', 'JJ'),\n",
       " ('movie', 'NN'),\n",
       " ('of', 'IN'),\n",
       " ('1998', 'CD'),\n",
       " (',', ','),\n",
       " ('and', 'CC'),\n",
       " ('would', 'MD'),\n",
       " ('have', 'VB'),\n",
       " ('been', 'VBN'),\n",
       " ('a', 'DT'),\n",
       " ('shoo-in', 'NN'),\n",
       " ('for', 'IN'),\n",
       " ('first', 'JJ'),\n",
       " ('in', 'IN'),\n",
       " ('almost', 'RB'),\n",
       " ('any', 'DT'),\n",
       " ('other', 'JJ'),\n",
       " ('year', 'NN'),\n",
       " ('.', '.'),\n",
       " ('perhaps', 'RB'),\n",
       " ('the', 'DT'),\n",
       " ('big', 'JJ'),\n",
       " ('turn-off', 'NN'),\n",
       " ('for', 'IN'),\n",
       " ('many', 'JJ'),\n",
       " ('was', 'VBD'),\n",
       " ('this', 'DT'),\n",
       " ('film', 'NN'),\n",
       " (\"'s\", 'POS'),\n",
       " ('unconventionality', 'NN'),\n",
       " ('.', '.'),\n",
       " ('i', 'VB'),\n",
       " (\"'d\", 'MD'),\n",
       " ('be', 'VB'),\n",
       " ('hard-pressed', 'JJ'),\n",
       " ('to', 'TO'),\n",
       " ('compare', 'VB'),\n",
       " ('it', 'PRP'),\n",
       " ('to', 'TO'),\n",
       " ('any', 'DT'),\n",
       " ('other', 'JJ'),\n",
       " ('film', 'NN'),\n",
       " ('that', 'IN'),\n",
       " ('i', 'NN'),\n",
       " (\"'ve\", 'VBP'),\n",
       " ('seen', 'VBN'),\n",
       " ('-', ':'),\n",
       " ('it', 'PRP'),\n",
       " ('is', 'VBZ'),\n",
       " ('very', 'RB'),\n",
       " (',', ','),\n",
       " ('very', 'RB'),\n",
       " ('artsy', 'RB'),\n",
       " (',', ','),\n",
       " ('incredibly', 'RB'),\n",
       " ('slow', 'JJ'),\n",
       " ('-', ':'),\n",
       " ('and', 'CC'),\n",
       " ('amazingly', 'RB'),\n",
       " (',', ','),\n",
       " ('it', 'PRP'),\n",
       " ('works', 'VBZ'),\n",
       " ('beautifully', 'RB'),\n",
       " ('.', '.'),\n",
       " ('on', 'IN'),\n",
       " ('my', 'PRP$'),\n",
       " ('second', 'JJ'),\n",
       " ('viewing', 'NN'),\n",
       " (',', ','),\n",
       " ('i', 'VB'),\n",
       " ('realized', 'VBN'),\n",
       " ('that', 'IN'),\n",
       " ('the', 'DT'),\n",
       " ('film', 'NN'),\n",
       " ('follows', 'VBZ'),\n",
       " ('the', 'DT'),\n",
       " ('three', 'CD'),\n",
       " ('act', 'NN'),\n",
       " ('structure', 'NN'),\n",
       " ('(', '('),\n",
       " ('i', 'NN'),\n",
       " ('did', 'VBD'),\n",
       " (\"n't\", 'RB'),\n",
       " ('think', 'VB'),\n",
       " ('it', 'PRP'),\n",
       " ('had', 'VBD'),\n",
       " ('any', 'DT'),\n",
       " ('sort', 'NN'),\n",
       " ('of', 'IN'),\n",
       " ('structure', 'NN'),\n",
       " ('at', 'IN'),\n",
       " ('all', 'DT'),\n",
       " ('when', 'WRB'),\n",
       " ('i', 'NN'),\n",
       " ('first', 'RB'),\n",
       " ('saw', 'VBD'),\n",
       " ('it', 'PRP'),\n",
       " (')', ')'),\n",
       " ('.', '.'),\n",
       " ('the', 'DT'),\n",
       " ('first', 'JJ'),\n",
       " ('act', 'NN'),\n",
       " ('serves', 'NNS'),\n",
       " ('to', 'TO'),\n",
       " ('set', 'VB'),\n",
       " ('up', 'RP'),\n",
       " ('the', 'DT'),\n",
       " ('characters', 'NNS'),\n",
       " ('-', ':'),\n",
       " ('sort', 'NN'),\n",
       " ('of', 'IN'),\n",
       " ('.', '.'),\n",
       " ('it', 'PRP'),\n",
       " ('exists', 'VBZ'),\n",
       " ('even', 'RB'),\n",
       " ('moreso', 'NNS'),\n",
       " ('to', 'TO'),\n",
       " ('set', 'VB'),\n",
       " ('a', 'DT'),\n",
       " ('mood', 'NN'),\n",
       " ('of', 'IN'),\n",
       " ('tension', 'NN'),\n",
       " ('and', 'CC'),\n",
       " ('restlesness', 'NN'),\n",
       " (',', ','),\n",
       " ('and', 'CC'),\n",
       " ('perhaps', 'RB'),\n",
       " ('even', 'RB'),\n",
       " ('feelings', 'NNS'),\n",
       " ('of', 'IN'),\n",
       " ('boredom', 'NN'),\n",
       " ('.', '.'),\n",
       " ('and', 'CC'),\n",
       " ('then', 'RB'),\n",
       " ('it', 'PRP'),\n",
       " ('is', 'VBZ'),\n",
       " ('shattered', 'VBN'),\n",
       " ('by', 'IN'),\n",
       " ('the', 'DT'),\n",
       " ('intense', 'JJ'),\n",
       " ('violence', 'NN'),\n",
       " ('of', 'IN'),\n",
       " ('the', 'DT'),\n",
       " ('second', 'NN'),\n",
       " ('(', '('),\n",
       " ('which', 'WDT'),\n",
       " ('encompasses', 'VBZ'),\n",
       " ('most', 'JJS'),\n",
       " ('of', 'IN'),\n",
       " ('the', 'DT'),\n",
       " ('movie', 'NN'),\n",
       " (')', ')'),\n",
       " ('.', '.'),\n",
       " ('the', 'DT'),\n",
       " ('majority', 'NN'),\n",
       " ('of', 'IN'),\n",
       " ('the', 'DT'),\n",
       " ('film', 'NN'),\n",
       " ('is', 'VBZ'),\n",
       " ('one', 'CD'),\n",
       " ('extended', 'JJ'),\n",
       " ('battle', 'NN'),\n",
       " ('scene', 'NN'),\n",
       " (',', ','),\n",
       " ('intercut', 'NN'),\n",
       " ('with', 'IN'),\n",
       " ('brief', 'JJ'),\n",
       " ('flashbacks', 'NNS'),\n",
       " ('and', 'CC'),\n",
       " ('voice-overs', 'NNS'),\n",
       " ('.', '.'),\n",
       " ('the', 'DT'),\n",
       " ('artsier', 'JJ'),\n",
       " ('elements', 'NNS'),\n",
       " ('do', 'VBP'),\n",
       " ('not', 'RB'),\n",
       " ('detract', 'VB'),\n",
       " ('from', 'IN'),\n",
       " ('the', 'DT'),\n",
       " ('action', 'NN'),\n",
       " (',', ','),\n",
       " ('but', 'CC'),\n",
       " ('add', 'VBP'),\n",
       " ('to', 'TO'),\n",
       " ('it', 'PRP'),\n",
       " ('-', ':'),\n",
       " ('they', 'PRP'),\n",
       " ('succeed', 'VB'),\n",
       " ('in', 'IN'),\n",
       " ('briefly', 'NN'),\n",
       " ('letting', 'VBG'),\n",
       " ('the', 'DT'),\n",
       " ('viewer', 'NN'),\n",
       " ('peek', 'NN'),\n",
       " ('into', 'IN'),\n",
       " ('the', 'DT'),\n",
       " ('minds', 'NNS'),\n",
       " ('of', 'IN'),\n",
       " ('the', 'DT'),\n",
       " ('soldiers', 'NNS'),\n",
       " (',', ','),\n",
       " ('only', 'RB'),\n",
       " ('to', 'TO'),\n",
       " ('be', 'VB'),\n",
       " ('suddenly', 'RB'),\n",
       " ('yanked', 'VBN'),\n",
       " ('back', 'RB'),\n",
       " ('into', 'IN'),\n",
       " ('reality', 'NN'),\n",
       " ('when', 'WRB'),\n",
       " ('the', 'DT'),\n",
       " ('battle', 'NN'),\n",
       " ('resumes', 'VBZ'),\n",
       " ('.', '.'),\n",
       " ('the', 'DT'),\n",
       " ('battle', 'NN'),\n",
       " ('scenes', 'NNS'),\n",
       " ('are', 'VBP'),\n",
       " ('amazing', 'VBG'),\n",
       " ('(', '('),\n",
       " ('second', 'JJ'),\n",
       " ('only', 'RB'),\n",
       " ('to', 'TO'),\n",
       " ('``', '``'),\n",
       " ('saving', 'VBG'),\n",
       " ('private', 'JJ'),\n",
       " ('ryan', 'NN'),\n",
       " ('``', '``'),\n",
       " ('in', 'IN'),\n",
       " ('my', 'PRP$'),\n",
       " ('opinion', 'NN'),\n",
       " (')', ')'),\n",
       " ('.', '.'),\n",
       " ('they', 'PRP'),\n",
       " (\"'re\", 'VBP'),\n",
       " ('brutal', 'JJ'),\n",
       " (',', ','),\n",
       " ('horrifying', 'NN'),\n",
       " (',', ','),\n",
       " ('and', 'CC'),\n",
       " ('at', 'IN'),\n",
       " ('times', 'NNS'),\n",
       " ('beautiful', 'JJ'),\n",
       " ('due', 'JJ'),\n",
       " ('to', 'TO'),\n",
       " ('the', 'DT'),\n",
       " ('amazing', 'JJ'),\n",
       " ('cinematography', 'NN'),\n",
       " ('.', '.'),\n",
       " ('the', 'DT'),\n",
       " ('second', 'JJ'),\n",
       " ('act', 'NN'),\n",
       " ('is', 'VBZ'),\n",
       " ('as', 'IN'),\n",
       " ('immersive', 'JJ'),\n",
       " (',', ','),\n",
       " ('brilliant', 'JJ'),\n",
       " (',', ','),\n",
       " ('and', 'CC'),\n",
       " ('haunting', 'VBG'),\n",
       " ('as', 'IN'),\n",
       " ('any', 'DT'),\n",
       " ('film', 'NN'),\n",
       " ('that', 'IN'),\n",
       " ('i', 'NN'),\n",
       " ('have', 'VBP'),\n",
       " ('ever', 'RB'),\n",
       " ('seen', 'VBN'),\n",
       " ('.', '.'),\n",
       " ('the', 'DT'),\n",
       " ('only', 'JJ'),\n",
       " ('problems', 'NNS'),\n",
       " ('come', 'VBP'),\n",
       " ('during', 'IN'),\n",
       " ('the', 'DT'),\n",
       " ('first', 'JJ'),\n",
       " ('and', 'CC'),\n",
       " ('third', 'JJ'),\n",
       " ('acts', 'NNS'),\n",
       " ('.', '.'),\n",
       " ('malick', 'NN'),\n",
       " ('takes', 'VBZ'),\n",
       " ('a', 'DT'),\n",
       " ('little', 'JJ'),\n",
       " ('too', 'RB'),\n",
       " ('long', 'RB'),\n",
       " ('to', 'TO'),\n",
       " ('get', 'VB'),\n",
       " ('the', 'DT'),\n",
       " ('film', 'NN'),\n",
       " ('started', 'VBD'),\n",
       " ('.', '.'),\n",
       " ('although', 'IN'),\n",
       " ('the', 'DT'),\n",
       " ('initial', 'JJ'),\n",
       " ('scenes', 'NNS'),\n",
       " ('-', ':'),\n",
       " ('which', 'WDT'),\n",
       " ('consist', 'VBP'),\n",
       " ('of', 'IN'),\n",
       " ('two', 'CD'),\n",
       " ('soldiers', 'NNS'),\n",
       " (\"'\", 'POS'),\n",
       " ('experiencing', 'VBG'),\n",
       " ('a', 'DT'),\n",
       " ('near-eden-like', 'JJ'),\n",
       " ('paradise', 'NN'),\n",
       " ('while', 'IN'),\n",
       " ('going', 'VBG'),\n",
       " ('awol', 'NN'),\n",
       " (',', ','),\n",
       " ('and', 'CC'),\n",
       " ('the', 'DT'),\n",
       " ('preperations', 'NNS'),\n",
       " ('for', 'IN'),\n",
       " ('battle', 'NN'),\n",
       " ('-', ':'),\n",
       " ('are', 'VBP'),\n",
       " ('effective', 'JJ'),\n",
       " ('and', 'CC'),\n",
       " ('necessary', 'JJ'),\n",
       " (',', ','),\n",
       " ('hints', 'NNS'),\n",
       " ('of', 'IN'),\n",
       " ('pretentiousness', 'NN'),\n",
       " ('sink', 'NN'),\n",
       " ('in', 'IN'),\n",
       " ('.', '.'),\n",
       " ('the', 'DT'),\n",
       " ('film', 'NN'),\n",
       " ('is', 'VBZ'),\n",
       " ('just', 'RB'),\n",
       " ('a', 'DT'),\n",
       " ('tad', 'RB'),\n",
       " ('too', 'RB'),\n",
       " ('artsy', 'JJ'),\n",
       " ('near', 'IN'),\n",
       " ('the', 'DT'),\n",
       " ('beginning', 'NN'),\n",
       " (',', ','),\n",
       " ('and', 'CC'),\n",
       " ('a', 'DT'),\n",
       " ('lot', 'NN'),\n",
       " ('of', 'IN'),\n",
       " ('people', 'NNS'),\n",
       " ('that', 'WDT'),\n",
       " ('disliked', 'VBD'),\n",
       " ('the', 'DT'),\n",
       " ('movie', 'NN'),\n",
       " ('probably', 'RB'),\n",
       " ('gave', 'VBD'),\n",
       " ('up', 'RP'),\n",
       " ('on', 'IN'),\n",
       " ('it', 'PRP'),\n",
       " ('because', 'IN'),\n",
       " ('of', 'IN'),\n",
       " ('this', 'DT'),\n",
       " ('.', '.'),\n",
       " ('the', 'DT'),\n",
       " ('final', 'JJ'),\n",
       " ('act', 'NN'),\n",
       " ('is', 'VBZ'),\n",
       " ('effective', 'JJ'),\n",
       " ('at', 'IN'),\n",
       " ('winding', 'VBG'),\n",
       " ('the', 'DT'),\n",
       " ('film', 'NN'),\n",
       " ('down', 'RP'),\n",
       " (',', ','),\n",
       " ('but', 'CC'),\n",
       " ('the', 'DT'),\n",
       " ('problems', 'NNS'),\n",
       " ('from', 'IN'),\n",
       " ('the', 'DT'),\n",
       " ('first', 'JJ'),\n",
       " ('persist', 'NN'),\n",
       " ('-', ':'),\n",
       " ('it', 'PRP'),\n",
       " (\"'s\", 'VBZ'),\n",
       " ('a', 'DT'),\n",
       " ('bit', 'RB'),\n",
       " ('too', 'RB'),\n",
       " ('long', 'RB'),\n",
       " (',', ','),\n",
       " ('and', 'CC'),\n",
       " ('comes', 'VBZ'),\n",
       " ('over', 'RP'),\n",
       " ('as', 'IN'),\n",
       " ('pretentious', 'JJ'),\n",
       " ('at', 'IN'),\n",
       " ('times', 'NNS'),\n",
       " ('.', '.'),\n",
       " ('that', 'DT'),\n",
       " ('said', 'VBD'),\n",
       " (',', ','),\n",
       " ('there', 'EX'),\n",
       " ('are', 'VBP'),\n",
       " ('two', 'CD'),\n",
       " ('sequences', 'NNS'),\n",
       " ('(', '('),\n",
       " ('one', 'CD'),\n",
       " ('where', 'WRB'),\n",
       " ('a', 'DT'),\n",
       " ('soldier', 'JJR'),\n",
       " ('gets', 'VBZ'),\n",
       " ('a', 'DT'),\n",
       " ('devastating', 'JJ'),\n",
       " ('note', 'NN'),\n",
       " ('from', 'IN'),\n",
       " ('his', 'PRP$'),\n",
       " ('wife', 'NN'),\n",
       " (',', ','),\n",
       " ('and', 'CC'),\n",
       " ('another', 'DT'),\n",
       " ('where', 'WRB'),\n",
       " ('one', 'CD'),\n",
       " ('of', 'IN'),\n",
       " ('the', 'DT'),\n",
       " ('main', 'JJ'),\n",
       " ('characters', 'NNS'),\n",
       " ('is', 'VBZ'),\n",
       " ('killed', 'VBN'),\n",
       " (')', ')'),\n",
       " ('that', 'WDT'),\n",
       " ('are', 'VBP'),\n",
       " ('nothing', 'NN'),\n",
       " ('short', 'JJ'),\n",
       " ('of', 'IN'),\n",
       " ('incredible', 'JJ'),\n",
       " ('.', '.'),\n",
       " ('the', 'DT'),\n",
       " ('performances', 'NNS'),\n",
       " ('are', 'VBP'),\n",
       " ('phenominal', 'JJ'),\n",
       " ('all', 'DT'),\n",
       " ('around', 'RB'),\n",
       " ('.', '.'),\n",
       " ('the', 'DT'),\n",
       " ('two', 'CD'),\n",
       " ('standouts', 'NNS'),\n",
       " ('are', 'VBP'),\n",
       " ('nick', 'JJ'),\n",
       " ('nolte', 'NNS'),\n",
       " ('and', 'CC'),\n",
       " ('newcomer', 'JJ'),\n",
       " ('jim', 'NN'),\n",
       " ('caviezel', 'NN'),\n",
       " (',', ','),\n",
       " ('both', 'DT'),\n",
       " ('of', 'IN'),\n",
       " ('whom', 'WP'),\n",
       " ('should', 'MD'),\n",
       " ('have', 'VB'),\n",
       " ('been', 'VBN'),\n",
       " ('nominated', 'VBN'),\n",
       " ('for', 'IN'),\n",
       " ('oscars', 'NNS'),\n",
       " ('.', '.'),\n",
       " ('nolte', 'NN'),\n",
       " ('is', 'VBZ'),\n",
       " ('riveting', 'VBG'),\n",
       " ('and', 'CC'),\n",
       " ('intense', 'JJ'),\n",
       " ('as', 'IN'),\n",
       " ('the', 'DT'),\n",
       " ('colonel', 'NN'),\n",
       " ('in', 'IN'),\n",
       " ('charge', 'NN'),\n",
       " ('of', 'IN'),\n",
       " ('the', 'DT'),\n",
       " ('operation', 'NN'),\n",
       " ('.', '.'),\n",
       " ('his', 'PRP$'),\n",
       " ('character', 'NN'),\n",
       " ('is', 'VBZ'),\n",
       " ('hard', 'JJ'),\n",
       " (',', ','),\n",
       " ('mean', 'JJ'),\n",
       " (',', ','),\n",
       " ('and', 'CC'),\n",
       " ('somewhat', 'RB'),\n",
       " ('reckless', 'JJ'),\n",
       " ('with', 'IN'),\n",
       " ('the', 'DT'),\n",
       " ('lives', 'NNS'),\n",
       " ('of', 'IN'),\n",
       " ('his', 'PRP$'),\n",
       " ('men', 'NNS'),\n",
       " (',', ','),\n",
       " ('and', 'CC'),\n",
       " ('yet', 'RB'),\n",
       " ('nolte', 'JJ'),\n",
       " ('somehow', 'NN'),\n",
       " ('manages', 'VBZ'),\n",
       " ('to', 'TO'),\n",
       " ('evoke', 'VB'),\n",
       " ('sympathy', 'NN'),\n",
       " ('for', 'IN'),\n",
       " ('him', 'PRP'),\n",
       " ('.', '.'),\n",
       " ('caviezel', 'NN'),\n",
       " ('is', 'VBZ'),\n",
       " ('forever', 'RB'),\n",
       " ('questioning', 'VBG'),\n",
       " ('the', 'DT'),\n",
       " ('nature', 'NN'),\n",
       " ('of', 'IN'),\n",
       " ('war', 'NN'),\n",
       " (',', ','),\n",
       " ('his', 'PRP$'),\n",
       " ('place', 'NN'),\n",
       " ('in', 'IN'),\n",
       " ('it', 'PRP'),\n",
       " (',', ','),\n",
       " ('and', 'CC'),\n",
       " ('if', 'IN'),\n",
       " ('there', 'EX'),\n",
       " (\"'s\", 'VBZ'),\n",
       " ('any', 'DT'),\n",
       " ('deeper', 'JJ'),\n",
       " ('meaning', 'NN'),\n",
       " ('to', 'TO'),\n",
       " ('the', 'DT'),\n",
       " ('hell', 'NN'),\n",
       " ('that', 'IN'),\n",
       " ('he', 'PRP'),\n",
       " (\"'s\", 'VBZ'),\n",
       " ('going', 'VBG'),\n",
       " ('through', 'IN'),\n",
       " ('.', '.'),\n",
       " ('he', 'PRP'),\n",
       " ('is', 'VBZ'),\n",
       " ('absolutely', 'RB'),\n",
       " ('perfect', 'JJ'),\n",
       " ('-', ':'),\n",
       " ('genuine', 'NN'),\n",
       " (',', ','),\n",
       " ('sympathetic', 'JJ'),\n",
       " (',', ','),\n",
       " ('sincere', 'JJ'),\n",
       " (',', ','),\n",
       " ('and', 'CC'),\n",
       " ('yet', 'RB'),\n",
       " ('strong', 'JJ'),\n",
       " ('when', 'WRB'),\n",
       " ('he', 'PRP'),\n",
       " ('needs', 'VBZ'),\n",
       " ('to', 'TO'),\n",
       " ('be', 'VB'),\n",
       " ('.', '.'),\n",
       " ('although', 'IN'),\n",
       " ('restricted', 'VBN'),\n",
       " ('to', 'TO'),\n",
       " ('a', 'DT'),\n",
       " ('relatively', 'RB'),\n",
       " ('small', 'JJ'),\n",
       " ('role', 'NN'),\n",
       " (',', ','),\n",
       " ('sean', 'JJ'),\n",
       " ('penn', 'NN'),\n",
       " ('is', 'VBZ'),\n",
       " ('also', 'RB'),\n",
       " ('very', 'RB'),\n",
       " ('good', 'JJ'),\n",
       " ('as', 'IN'),\n",
       " ('the', 'DT'),\n",
       " ('company', 'NN'),\n",
       " (\"'s\", 'POS'),\n",
       " ('pessimistic', 'JJ'),\n",
       " ('seargent', 'NN'),\n",
       " ('.', '.'),\n",
       " ('as', 'IN'),\n",
       " ('to', 'TO'),\n",
       " ('how', 'WRB'),\n",
       " ('it', 'PRP'),\n",
       " ('stacks', 'VBZ'),\n",
       " ('up', 'RP'),\n",
       " ('to', 'TO'),\n",
       " ('``', '``'),\n",
       " ('saving', 'VBG'),\n",
       " ('private', 'JJ'),\n",
       " ('ryan', 'NN'),\n",
       " ('``', '``'),\n",
       " ('-', ':'),\n",
       " ('it', 'PRP'),\n",
       " ('was', 'VBD'),\n",
       " ('my', 'PRP$'),\n",
       " ('second', 'JJ'),\n",
       " ('favorite', 'JJ'),\n",
       " ('movie', 'NN'),\n",
       " ('of', 'IN'),\n",
       " ('1998', 'CD'),\n",
       " (',', ','),\n",
       " ('``', '``'),\n",
       " ('ryan', 'VB'),\n",
       " ('``', '``'),\n",
       " ('was', 'VBD'),\n",
       " ('my', 'PRP$'),\n",
       " ('first', 'JJ'),\n",
       " ('.', '.'),\n",
       " ('it', 'PRP'),\n",
       " (\"'s\", 'VBZ'),\n",
       " ('really', 'RB'),\n",
       " ('hard', 'JJ'),\n",
       " ('to', 'TO'),\n",
       " ('compare', 'VB'),\n",
       " ('the', 'DT'),\n",
       " ('two', 'CD'),\n",
       " ('-', ':'),\n",
       " ('they', 'PRP'),\n",
       " ('are', 'VBP'),\n",
       " ('so', 'RB'),\n",
       " (',', ','),\n",
       " ('so', 'IN'),\n",
       " ('different', 'JJ'),\n",
       " ('-', ':'),\n",
       " ('so', 'RB'),\n",
       " ('i', 'JJ'),\n",
       " ('wo', 'MD'),\n",
       " (\"n't\", 'RB'),\n",
       " (',', ','),\n",
       " ('beyond', 'IN'),\n",
       " ('saying', 'VBG'),\n",
       " ('that', 'IN'),\n",
       " ('spielberg', 'NN'),\n",
       " (\"'s\", 'POS'),\n",
       " ('film', 'NN'),\n",
       " ('had', 'VBD'),\n",
       " ('more', 'JJR'),\n",
       " ('of', 'IN'),\n",
       " ('an', 'DT'),\n",
       " ('impact', 'NN'),\n",
       " ('on', 'IN'),\n",
       " ('me', 'PRP'),\n",
       " ('.', '.'),\n",
       " ('however', 'RB'),\n",
       " (',', ','),\n",
       " ('the', 'DT'),\n",
       " ('two', 'CD'),\n",
       " ('are', 'VBP'),\n",
       " ('comparable', 'JJ'),\n",
       " ('from', 'IN'),\n",
       " ('the', 'DT'),\n",
       " ('standpoint', 'NN'),\n",
       " ('of', 'IN'),\n",
       " ('quality', 'NN'),\n",
       " ('(', '('),\n",
       " ('i', 'JJ'),\n",
       " ('can', 'MD'),\n",
       " ('easily', 'RB'),\n",
       " ('see', 'VB'),\n",
       " ('why', 'WRB'),\n",
       " ('someone', 'NN'),\n",
       " ('would', 'MD'),\n",
       " ('``', '``'),\n",
       " ('the', 'DT'),\n",
       " ('thin', 'JJ'),\n",
       " ('red', 'JJ'),\n",
       " ('line', 'NN'),\n",
       " ('``', '``'),\n",
       " ('above', 'IN'),\n",
       " ('``', '``'),\n",
       " ('ryan', 'NN'),\n",
       " (')', ')'),\n",
       " ('.', '.'),\n",
       " ('i', 'JJ'),\n",
       " ('highly', 'RB'),\n",
       " ('recommend', 'VBP'),\n",
       " ('both', 'DT'),\n",
       " ('of', 'IN'),\n",
       " ('them', 'PRP'),\n",
       " (',', ','),\n",
       " ('and', 'CC'),\n",
       " ('consider', 'VB'),\n",
       " ('them', 'PRP'),\n",
       " ('to', 'TO'),\n",
       " ('be', 'VB'),\n",
       " ('the', 'DT'),\n",
       " ('two', 'CD'),\n",
       " ('best', 'JJS'),\n",
       " ('war', 'NN'),\n",
       " ('movies', 'NNS'),\n",
       " ('ever', 'RB'),\n",
       " ('made', 'VBD'),\n",
       " ('.', '.'),\n",
       " ('all', 'DT'),\n",
       " ('in', 'IN'),\n",
       " ('all', 'DT'),\n",
       " (',', ','),\n",
       " ('``', '``'),\n",
       " ('the', 'DT'),\n",
       " ('thin', 'JJ'),\n",
       " ('red', 'JJ'),\n",
       " ('line', 'NN'),\n",
       " ('``', '``'),\n",
       " ('is', 'VBZ'),\n",
       " ('filmmaking', 'VBG'),\n",
       " ('of', 'IN'),\n",
       " ('an', 'DT'),\n",
       " ('incredibly', 'RB'),\n",
       " ('high', 'JJ'),\n",
       " ('order', 'NN'),\n",
       " ('.', '.'),\n",
       " ('it', 'PRP'),\n",
       " (\"'s\", 'VBZ'),\n",
       " ('slight', 'JJ'),\n",
       " ('faults', 'NNS'),\n",
       " ('are', 'VBP'),\n",
       " ('easily', 'RB'),\n",
       " ('offset', 'VBN'),\n",
       " ('by', 'IN'),\n",
       " ('the', 'DT'),\n",
       " ('sheer', 'NN'),\n",
       " ('brilliance', 'NN'),\n",
       " ('of', 'IN'),\n",
       " ('what', 'WP'),\n",
       " ('is', 'VBZ'),\n",
       " ('done', 'VBN'),\n",
       " ('right', 'RB'),\n",
       " ('.', '.'),\n",
       " ('it', 'PRP'),\n",
       " (\"'s\", 'VBZ'),\n",
       " ('a', 'DT'),\n",
       " ('real', 'JJ'),\n",
       " ('shame', 'NN'),\n",
       " ('that', 'IN'),\n",
       " ('it', 'PRP'),\n",
       " ('tanked', 'VBD'),\n",
       " ('at', 'IN'),\n",
       " ('the', 'DT'),\n",
       " ('box', 'NN'),\n",
       " ('office', 'NN'),\n",
       " ('-', ':'),\n",
       " ('films', 'NNS'),\n",
       " ('this', 'DT'),\n",
       " ('unconventional', 'JJ'),\n",
       " (',', ','),\n",
       " ('powerful', 'JJ'),\n",
       " (',', ','),\n",
       " ('and', 'CC'),\n",
       " ('thought-provoking', 'NN'),\n",
       " ('do', 'VBP'),\n",
       " (\"n't\", 'RB'),\n",
       " ('come', 'VB'),\n",
       " ('along', 'RB'),\n",
       " ('very', 'RB'),\n",
       " ('often', 'RB'),\n",
       " ('.', '.')]"
      ]
     },
     "execution_count": 36,
     "metadata": {},
     "output_type": "execute_result"
    }
   ],
   "source": [
    "postags = pos_tag(word_tokenize(clean_text(X_train_text.iloc[1])))\n",
    "postags"
   ]
  },
  {
   "cell_type": "code",
   "execution_count": 39,
   "metadata": {
    "colab": {},
    "colab_type": "code",
    "id": "k9OmeWqtyjGl"
   },
   "outputs": [],
   "source": [
    "def word_pos_to_lemma(word,pos,wnl):\n",
    "    if pos.startswith('J'):\n",
    "        return wnl.lemmatize(word,wordnet.ADJ) # adjetivo\n",
    "    elif pos.startswith('V'):\n",
    "        return wnl.lemmatize(word,wordnet.VERB) # verbo\n",
    "    elif pos.startswith('N'):\n",
    "        return wnl.lemmatize(word,wordnet.NOUN)# sustantivo\n",
    "    elif pos.startswith('R'):\n",
    "        return wnl.lemmatize(word,wordnet.ADV) # adverbio\n",
    "    else:\n",
    "        return wnl.lemmatize(word)"
   ]
  },
  {
   "cell_type": "code",
   "execution_count": 40,
   "metadata": {
    "colab": {},
    "colab_type": "code",
    "id": "2LHvNNGayjGn"
   },
   "outputs": [
    {
     "data": {
      "text/plain": [
       "[('i', 'i'),\n",
       " ('have', 'have'),\n",
       " ('to', 'to'),\n",
       " ('admit', 'admit'),\n",
       " ('that', 'that'),\n",
       " ('i', 'i'),\n",
       " ('disliked', 'dislike'),\n",
       " ('this', 'this'),\n",
       " ('film', 'film'),\n",
       " ('initially', 'initially'),\n",
       " ('it', 'it'),\n",
       " ('certianly', 'certianly'),\n",
       " ('is', 'be'),\n",
       " ('for', 'for'),\n",
       " ('every', 'every'),\n",
       " ('taste', 'taste'),\n",
       " ('and', 'and'),\n",
       " ('it', 'it'),\n",
       " ('sheer', 'sheer'),\n",
       " ('torture', 'torture'),\n",
       " ('to', 'to'),\n",
       " ('sit', 'sit'),\n",
       " ('through', 'through'),\n",
       " ('if', 'if'),\n",
       " ('you', 'you')]"
      ]
     },
     "execution_count": 40,
     "metadata": {},
     "output_type": "execute_result"
    }
   ],
   "source": [
    "[(w,word_pos_to_lemma(w,pos,wnl) ) for w,pos in postags if w.isalpha()][:25]"
   ]
  },
  {
   "cell_type": "markdown",
   "metadata": {
    "colab_type": "text",
    "id": "U0o20WuRgzHz"
   },
   "source": [
    "## Zipf's Law"
   ]
  },
  {
   "cell_type": "code",
   "execution_count": 41,
   "metadata": {
    "colab": {},
    "colab_type": "code",
    "id": "-t0jdzUUffRM"
   },
   "outputs": [],
   "source": [
    "# Serie con todas las palabras del corpus\n",
    "words_series = pd.Series([word for rev in df.review for word in word_tokenize(rev) if word.isalpha()])  "
   ]
  },
  {
   "cell_type": "code",
   "execution_count": 42,
   "metadata": {
    "colab": {},
    "colab_type": "code",
    "id": "q_qZv5bBiGeb"
   },
   "outputs": [
    {
     "data": {
      "text/plain": [
       "the              76276\n",
       "a                37995\n",
       "and              35404\n",
       "of               33972\n",
       "to               31772\n",
       "                 ...  \n",
       "kurgan               1\n",
       "retrieves            1\n",
       "macalaester          1\n",
       "efficent             1\n",
       "electrocuting        1\n",
       "Length: 38107, dtype: int64"
      ]
     },
     "execution_count": 42,
     "metadata": {},
     "output_type": "execute_result"
    }
   ],
   "source": [
    "# Frecuencia de cada palabra en el corpus\n",
    "word_freq = words_series.value_counts()\n",
    "word_freq"
   ]
  },
  {
   "cell_type": "code",
   "execution_count": 43,
   "metadata": {
    "colab": {},
    "colab_type": "code",
    "id": "tPQ8DVyTiGhz"
   },
   "outputs": [
    {
     "data": {
      "image/png": "[encoded data removed]",
      "text/plain": [
       "<Figure size 432x288 with 1 Axes>"
      ]
     },
     "metadata": {},
     "output_type": "display_data"
    }
   ],
   "source": [
    "# plot de frecuencia vs ranking (la palabra mas frecuente tiene rank=1, la segunda tiene rank=2, etc..)\n",
    "plt.plot(range(len(word_freq)),word_freq)\n",
    "plt.xlabel('rank');plt.ylabel('freq');\n"
   ]
  },
  {
   "cell_type": "code",
   "execution_count": 44,
   "metadata": {
    "colab": {},
    "colab_type": "code",
    "id": "t4-WgV_4gZ17"
   },
   "outputs": [
    {
     "data": {
      "image/png": "[encoded data removed]",
      "text/plain": [
       "<Figure size 432x288 with 1 Axes>"
      ]
     },
     "metadata": {},
     "output_type": "display_data"
    }
   ],
   "source": [
    "# ahora en eje logaritmico\n",
    "plt.plot(range(len(word_freq)),word_freq)\n",
    "plt.xlabel('rank');plt.ylabel('freq')\n",
    "plt.xscale('log'); plt.yscale('log');"
   ]
  },
  {
   "cell_type": "code",
   "execution_count": 45,
   "metadata": {
    "colab": {},
    "colab_type": "code",
    "id": "aGB_fDHjhvBR"
   },
   "outputs": [
    {
     "data": {
      "text/plain": [
       "0.3481512582990002"
      ]
     },
     "execution_count": 45,
     "metadata": {},
     "output_type": "execute_result"
    }
   ],
   "source": [
    "# palabras con 1 sola occurrencia\n",
    "sum(word_freq==1)/len(word_freq)"
   ]
  },
  {
   "cell_type": "markdown",
   "metadata": {
    "colab_type": "text",
    "id": "Id7N1_8ryjGq"
   },
   "source": [
    "# Ejercicio 1\n",
    "## Armar un clasificador que identifique si una review de IMDB es positivo (1) o negativo (0)\n",
    "## comparar varios modelos y seleccionar el que produzca un mejor 10-fold CV o un mejor performance en el dev set\n",
    "## predecir en el test set y calcular la matriz de confusion, precision, recall y F-score"
   ]
  },
  {
   "cell_type": "code",
   "execution_count": 46,
   "metadata": {
    "colab": {},
    "colab_type": "code",
    "id": "C2qzstytwb7t"
   },
   "outputs": [],
   "source": [
    "import tensorflow_datasets as tfds\n"
   ]
  },
  {
   "cell_type": "code",
   "execution_count": 47,
   "metadata": {
    "colab": {},
    "colab_type": "code",
    "id": "qRIycFNqwb-o"
   },
   "outputs": [],
   "source": [
    "# Split the training set into 60% and 40%, so we'll end up with 15,000 examples\n",
    "# for training, 10,000 examples for validation and 25,000 examples for testing.\n",
    "train_validation_split = tfds.Split.TRAIN.subsplit([6, 4])\n",
    "\n",
    "(train_data, validation_data), test_data = tfds.load(\n",
    "    name=\"imdb_reviews\", \n",
    "    split=(train_validation_split, tfds.Split.TEST),\n",
    "    as_supervised=True)\n",
    "\n",
    "df_train = pd.DataFrame(list(tfds.as_numpy(train_data)),columns=['texto','clase'])\n",
    "df_dev = pd.DataFrame(list(tfds.as_numpy(validation_data)),columns=['texto','clase'])\n",
    "df_test = pd.DataFrame(list(tfds.as_numpy(test_data)),columns=['texto','clase'])"
   ]
  },
  {
   "cell_type": "code",
   "execution_count": 48,
   "metadata": {
    "colab": {},
    "colab_type": "code",
    "id": "6XSlXSN-wb4k"
   },
   "outputs": [
    {
     "data": {
      "text/html": [
       "<div>\n",
       "<style scoped>\n",
       "    .dataframe tbody tr th:only-of-type {\n",
       "        vertical-align: middle;\n",
       "    }\n",
       "\n",
       "    .dataframe tbody tr th {\n",
       "        vertical-align: top;\n",
       "    }\n",
       "\n",
       "    .dataframe thead th {\n",
       "        text-align: right;\n",
       "    }\n",
       "</style>\n",
       "<table border=\"1\" class=\"dataframe\">\n",
       "  <thead>\n",
       "    <tr style=\"text-align: right;\">\n",
       "      <th></th>\n",
       "      <th>texto</th>\n",
       "      <th>clase</th>\n",
       "    </tr>\n",
       "  </thead>\n",
       "  <tbody>\n",
       "    <tr>\n",
       "      <td>14772</td>\n",
       "      <td>b\"I've read some of the other comments and I d...</td>\n",
       "      <td>0</td>\n",
       "    </tr>\n",
       "    <tr>\n",
       "      <td>3191</td>\n",
       "      <td>b\"First off, I had my doubts just looking at t...</td>\n",
       "      <td>0</td>\n",
       "    </tr>\n",
       "    <tr>\n",
       "      <td>8487</td>\n",
       "      <td>b\"Yet another film about a tortured self-cente...</td>\n",
       "      <td>0</td>\n",
       "    </tr>\n",
       "    <tr>\n",
       "      <td>13267</td>\n",
       "      <td>b'Lord Alan Cunningham(Antonio De Teff\\xc3\\xa8...</td>\n",
       "      <td>0</td>\n",
       "    </tr>\n",
       "    <tr>\n",
       "      <td>2680</td>\n",
       "      <td>b'I\\'d been following this films progress for ...</td>\n",
       "      <td>0</td>\n",
       "    </tr>\n",
       "  </tbody>\n",
       "</table>\n",
       "</div>"
      ],
      "text/plain": [
       "                                                   texto  clase\n",
       "14772  b\"I've read some of the other comments and I d...      0\n",
       "3191   b\"First off, I had my doubts just looking at t...      0\n",
       "8487   b\"Yet another film about a tortured self-cente...      0\n",
       "13267  b'Lord Alan Cunningham(Antonio De Teff\\xc3\\xa8...      0\n",
       "2680   b'I\\'d been following this films progress for ...      0"
      ]
     },
     "execution_count": 48,
     "metadata": {},
     "output_type": "execute_result"
    }
   ],
   "source": [
    "df_train.sample(5)"
   ]
  },
  {
   "cell_type": "code",
   "execution_count": 49,
   "metadata": {
    "colab": {},
    "colab_type": "code",
    "id": "ikMYGyp2xQ16"
   },
   "outputs": [],
   "source": [
    "def b2str(b):\n",
    "  return b.decode('utf8')\n",
    "\n",
    "df_dev['texto'] = df_dev['texto'].apply(b2str)\n",
    "df_train['texto'] = df_train['texto'].apply(b2str)\n",
    "df_test['texto'] = df_test['texto'].apply(b2str)"
   ]
  },
  {
   "cell_type": "code",
   "execution_count": 50,
   "metadata": {
    "colab": {},
    "colab_type": "code",
    "id": "HUNe-mLxyjGr"
   },
   "outputs": [
    {
     "data": {
      "text/html": [
       "<div>\n",
       "<style scoped>\n",
       "    .dataframe tbody tr th:only-of-type {\n",
       "        vertical-align: middle;\n",
       "    }\n",
       "\n",
       "    .dataframe tbody tr th {\n",
       "        vertical-align: top;\n",
       "    }\n",
       "\n",
       "    .dataframe thead th {\n",
       "        text-align: right;\n",
       "    }\n",
       "</style>\n",
       "<table border=\"1\" class=\"dataframe\">\n",
       "  <thead>\n",
       "    <tr style=\"text-align: right;\">\n",
       "      <th></th>\n",
       "      <th>texto</th>\n",
       "      <th>clase</th>\n",
       "    </tr>\n",
       "  </thead>\n",
       "  <tbody>\n",
       "    <tr>\n",
       "      <td>3108</td>\n",
       "      <td>Robert Wuhl is teaching a class of film studen...</td>\n",
       "      <td>1</td>\n",
       "    </tr>\n",
       "    <tr>\n",
       "      <td>2752</td>\n",
       "      <td>The name \"cult movie\" is often given to films ...</td>\n",
       "      <td>0</td>\n",
       "    </tr>\n",
       "    <tr>\n",
       "      <td>8400</td>\n",
       "      <td>** HERE BE SPOILERS **&lt;br /&gt;&lt;br /&gt;The governme...</td>\n",
       "      <td>0</td>\n",
       "    </tr>\n",
       "    <tr>\n",
       "      <td>9439</td>\n",
       "      <td>First off I want to say that this film is wort...</td>\n",
       "      <td>0</td>\n",
       "    </tr>\n",
       "    <tr>\n",
       "      <td>7371</td>\n",
       "      <td>Not even Goebbels could have pulled off a prop...</td>\n",
       "      <td>0</td>\n",
       "    </tr>\n",
       "  </tbody>\n",
       "</table>\n",
       "</div>"
      ],
      "text/plain": [
       "                                                  texto  clase\n",
       "3108  Robert Wuhl is teaching a class of film studen...      1\n",
       "2752  The name \"cult movie\" is often given to films ...      0\n",
       "8400  ** HERE BE SPOILERS **<br /><br />The governme...      0\n",
       "9439  First off I want to say that this film is wort...      0\n",
       "7371  Not even Goebbels could have pulled off a prop...      0"
      ]
     },
     "execution_count": 50,
     "metadata": {},
     "output_type": "execute_result"
    }
   ],
   "source": [
    "df_train.sample(5)"
   ]
  },
  {
   "cell_type": "code",
   "execution_count": 0,
   "metadata": {
    "colab": {},
    "colab_type": "code",
    "id": "3PEFKGLlyjGt"
   },
   "outputs": [],
   "source": []
  }
 ],
 "metadata": {
  "colab": {
   "collapsed_sections": [
    "Jl2rm838yjF3",
    "8SDbY0PTyjGB"
   ],
   "name": "3. Clasificacion de textos (Bayes).ipynb",
   "provenance": []
  },
  "kernelspec": {
   "display_name": "Python 3",
   "language": "python",
   "name": "python3"
  },
  "language_info": {
   "codemirror_mode": {
    "name": "ipython",
    "version": 3
   },
   "file_extension": ".py",
   "mimetype": "text/x-python",
   "name": "python",
   "nbconvert_exporter": "python",
   "pygments_lexer": "ipython3",
   "version": "3.5.3"
  },
  "toc": {
   "base_numbering": 1,
   "nav_menu": {},
   "number_sections": true,
   "sideBar": true,
   "skip_h1_title": false,
   "title_cell": "Table of Contents",
   "title_sidebar": "Contents",
   "toc_cell": false,
   "toc_position": {},
   "toc_section_display": true,
   "toc_window_display": false
  }
 },
 "nbformat": 4,
 "nbformat_minor": 1
}
