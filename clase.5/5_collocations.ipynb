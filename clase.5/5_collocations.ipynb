{
 "cells": [
  {
   "cell_type": "code",
   "execution_count": 1,
   "metadata": {
    "colab": {},
    "colab_type": "code",
    "id": "gKt6KcBKxRWA"
   },
   "outputs": [],
   "source": [
    "%matplotlib inline \n",
    "import matplotlib.pyplot as plt\n",
    "import pandas as pd\n",
    "import numpy as np\n",
    "import re\n",
    "from nltk import word_tokenize, sent_tokenize\n",
    "from nltk.collocations import BigramAssocMeasures, BigramCollocationFinder\n",
    "from gensim.models.phrases import Phrases, Phraser"
   ]
  },
  {
   "cell_type": "code",
   "execution_count": 2,
   "metadata": {
    "colab": {},
    "colab_type": "code",
    "id": "ZAXdytB1xcYl"
   },
   "outputs": [
    {
     "name": "stderr",
     "output_type": "stream",
     "text": [
      "[nltk_data] Downloading package punkt to /home/ddellera/nltk_data...\n",
      "[nltk_data]   Package punkt is already up-to-date!\n",
      "[nltk_data] Downloading package reuters to /home/ddellera/nltk_data...\n"
     ]
    }
   ],
   "source": [
    "import nltk\n",
    "nltk.download('punkt')\n",
    "nltk.download('reuters')\n",
    "from nltk.corpus import reuters\n"
   ]
  },
  {
   "cell_type": "code",
   "execution_count": 3,
   "metadata": {
    "colab": {},
    "colab_type": "code",
    "id": "7V4plIZaxlcE"
   },
   "outputs": [],
   "source": [
    "documents = []\n",
    " \n",
    "for fileid in reuters.fileids():\n",
    "    documents.append(reuters.raw(fileid).lower())\n"
   ]
  },
  {
   "cell_type": "code",
   "execution_count": 4,
   "metadata": {
    "colab": {},
    "colab_type": "code",
    "id": "Hgd3E9w9wIJi"
   },
   "outputs": [
    {
     "data": {
      "text/plain": [
       "'asian exporters fear damage from u.s.-japan rift\\n  mounting trade friction between the\\n  u.s. and japan has raised fears among many of asia\\'s exporting\\n  nations that the row could inflict far-reaching economic\\n  damage, businessmen and officials said.\\n      they told reuter correspondents in asian capitals a u.s.\\n  move against japan might boost protectionist sentiment in the\\n  u.s. and lead to curbs on american imports of their products.\\n      but some exporters said that while the conflict would hurt\\n  them in the long-run, in the short-term tokyo\\'s loss might be\\n  their gain.\\n      the u.s. has said it will impose 300 mln dlrs of tariffs on\\n  imports of japanese electronics goods on april 17, in\\n  retaliation for japan\\'s alleged failure to stick to a pact not\\n  to sell semiconductors on world markets at below cost.\\n      unofficial japanese estimates put the impact of the tariffs\\n  at 10 billion dlrs and spokesmen for major electronics firms\\n  said they would virtually halt exports of products hit by the\\n  new taxes.\\n      \"we wouldn\\'t be able to do business,\" said a spokesman for\\n  leading japanese electronics firm matsushita electric\\n  industrial co ltd &lt;mc.t>.\\n      \"if the tariffs remain in place for any length of time\\n  beyond a few months it will mean the complete erosion of\\n  exports (of goods subject to tariffs) to the u.s.,\" said tom\\n  murtha, a stock analyst at the tokyo office of broker &lt;james\\n  capel and co>.\\n      in taiwan, businessmen and officials are also worried.\\n      \"we are aware of the seriousness of the u.s. threat against\\n  japan because it serves as a warning to us,\" said a senior\\n  taiwanese trade official who asked not to be named.\\n      taiwan had a trade trade surplus of 15.6 billion dlrs last\\n  year, 95 pct of it with the u.s.\\n      the surplus helped swell taiwan\\'s foreign exchange reserves\\n  to 53 billion dlrs, among the world\\'s largest.\\n      \"we must quickly open our markets, remove trade barriers and\\n  cut import tariffs to allow imports of u.s. products, if we\\n  want to defuse problems from possible u.s. retaliation,\" said\\n  paul sheen, chairman of textile exporters &lt;taiwan safe group>.\\n      a senior official of south korea\\'s trade promotion\\n  association said the trade dispute between the u.s. and japan\\n  might also lead to pressure on south korea, whose chief exports\\n  are similar to those of japan.\\n      last year south korea had a trade surplus of 7.1 billion\\n  dlrs with the u.s., up from 4.9 billion dlrs in 1985.\\n      in malaysia, trade officers and businessmen said tough\\n  curbs against japan might allow hard-hit producers of\\n  semiconductors in third countries to expand their sales to the\\n  u.s.\\n      in hong kong, where newspapers have alleged japan has been\\n  selling below-cost semiconductors, some electronics\\n  manufacturers share that view. but other businessmen said such\\n  a short-term commercial advantage would be outweighed by\\n  further u.s. pressure to block imports.\\n      \"that is a very short-term view,\" said lawrence mills,\\n  director-general of the federation of hong kong industry.\\n      \"if the whole purpose is to prevent imports, one day it will\\n  be extended to other sources. much more serious for hong kong\\n  is the disadvantage of action restraining trade,\" he said.\\n      the u.s. last year was hong kong\\'s biggest export market,\\n  accounting for over 30 pct of domestically produced exports.\\n      the australian government is awaiting the outcome of trade\\n  talks between the u.s. and japan with interest and concern,\\n  industry minister john button said in canberra last friday.\\n      \"this kind of deterioration in trade relations between two\\n  countries which are major trading partners of ours is a very\\n  serious matter,\" button said.\\n      he said australia\\'s concerns centred on coal and beef,\\n  australia\\'s two largest exports to japan and also significant\\n  u.s. exports to that country.\\n      meanwhile u.s.-japanese diplomatic manoeuvres to solve the\\n  trade stand-off continue.\\n      japan\\'s ruling liberal democratic party yesterday outlined\\n  a package of economic measures to boost the japanese economy.\\n      the measures proposed include a large supplementary budget\\n  and record public works spending in the first half of the\\n  financial year.\\n      they also call for stepped-up spending as an emergency\\n  measure to stimulate the economy despite prime minister\\n  yasuhiro nakasone\\'s avowed fiscal reform program.\\n      deputy u.s. trade representative michael smith and makoto\\n  kuroda, japan\\'s deputy minister of international trade and\\n  industry (miti), are due to meet in washington this week in an\\n  effort to end the dispute.\\n  \\n\\n'"
      ]
     },
     "execution_count": 4,
     "metadata": {},
     "output_type": "execute_result"
    }
   ],
   "source": [
    "documents[0]"
   ]
  },
  {
   "cell_type": "code",
   "execution_count": 5,
   "metadata": {
    "colab": {},
    "colab_type": "code",
    "id": "3yju1UELxwC8"
   },
   "outputs": [
    {
     "data": {
      "text/plain": [
       "['asian',\n",
       " 'exporters',\n",
       " 'fear',\n",
       " 'damage',\n",
       " 'from',\n",
       " 'u.s.-japan',\n",
       " 'rift',\n",
       " 'mounting',\n",
       " 'trade',\n",
       " 'friction',\n",
       " 'between',\n",
       " 'the',\n",
       " 'u.s.',\n",
       " 'and',\n",
       " 'japan']"
      ]
     },
     "execution_count": 5,
     "metadata": {},
     "output_type": "execute_result"
    }
   ],
   "source": [
    "tokens =  [w for doc in documents for w in word_tokenize(doc)]\n",
    "tokens[:15]"
   ]
  },
  {
   "cell_type": "code",
   "execution_count": 6,
   "metadata": {
    "colab": {},
    "colab_type": "code",
    "id": "tBV9qhExxRWM"
   },
   "outputs": [
    {
     "data": {
      "text/plain": [
       "[('het', 'comite'),\n",
       " ('hoare', 'govett'),\n",
       " ('lago', 'agrio'),\n",
       " ('dar', 'es'),\n",
       " ('es', 'salaam'),\n",
       " ('corpus', 'christi'),\n",
       " ('paz', 'estenssoro'),\n",
       " ('corazon', 'aquino'),\n",
       " ('ay', 'expd-e'),\n",
       " ('l.f.', 'rothschild'),\n",
       " ('lear', 'siegler'),\n",
       " ('ranks', 'hovis'),\n",
       " ('hajime', 'tamura'),\n",
       " ('poison', 'pill'),\n",
       " ('abu', 'dhabi'),\n",
       " ('kleinwort', 'benson'),\n",
       " ('ind', 'ttl-f'),\n",
       " ('rjr', 'nabisco'),\n",
       " ('gates', 'learjet'),\n",
       " ('pro', 'forma'),\n",
       " ('margaret', 'thatcher'),\n",
       " ('carter', 'hawley'),\n",
       " ('canary', 'islands'),\n",
       " ('bra', 'kanon'),\n",
       " ('mcdonnell', 'douglas'),\n",
       " ('lord', 'abbett'),\n",
       " ('puerto', 'rico'),\n",
       " ('phelps', 'dodge'),\n",
       " ('sao', 'paulo'),\n",
       " ('brace', 'jovanovich'),\n",
       " ('karl', 'otto'),\n",
       " ('marlin', 'fitzwater'),\n",
       " ('pizza', 'inn'),\n",
       " ('dean', 'witter'),\n",
       " ('buenos', 'aires'),\n",
       " ('costa', 'rica'),\n",
       " ('king', 'fahd'),\n",
       " ('del', 'este'),\n",
       " ('hernandez', 'grisanti'),\n",
       " ('pl', '480'),\n",
       " ('arturo', 'hernandez'),\n",
       " ('punta', 'del'),\n",
       " ('el', 'nino'),\n",
       " ('du', 'pont'),\n",
       " ('optional', 'origin'),\n",
       " ('drexel', 'burnham'),\n",
       " ('denis', 'bra'),\n",
       " ('hisham', 'nazer'),\n",
       " ('jorio', 'dauster'),\n",
       " ('triangle', 'microwave')]"
      ]
     },
     "execution_count": 6,
     "metadata": {},
     "output_type": "execute_result"
    }
   ],
   "source": [
    "# Bi-gramas\n",
    "bigram_measures = BigramAssocMeasures()\n",
    "finder = BigramCollocationFinder.from_words(tokens)\n",
    "# Filtra bigramas con frecuencia menor a 5\n",
    "finder.apply_freq_filter(10)\n",
    "# devuelve los \"n\" bigramas con mayor PMI\n",
    "finder.nbest(bigram_measures.pmi, n = 50)"
   ]
  },
  {
   "cell_type": "markdown",
   "metadata": {
    "colab_type": "text",
    "id": "8I3ugZBhxRWP"
   },
   "source": [
    "# Gensim"
   ]
  },
  {
   "cell_type": "code",
   "execution_count": 7,
   "metadata": {
    "colab": {},
    "colab_type": "code",
    "id": "triH4tGdxRWQ"
   },
   "outputs": [],
   "source": [
    "sentences =  [word_tokenize(sent) for sent in sent_tokenize(\"\\n\".join(documents).lower())]"
   ]
  },
  {
   "cell_type": "code",
   "execution_count": 15,
   "metadata": {
    "colab": {},
    "colab_type": "code",
    "id": "O7wPJW-rxRWT"
   },
   "outputs": [
    {
     "data": {
      "text/plain": [
       "['asian',\n",
       " 'exporters',\n",
       " 'fear',\n",
       " 'damage',\n",
       " 'from',\n",
       " 'u.s.-japan',\n",
       " 'rift',\n",
       " 'mounting',\n",
       " 'trade',\n",
       " 'friction',\n",
       " 'between',\n",
       " 'the',\n",
       " 'u.s.',\n",
       " 'and',\n",
       " 'japan',\n",
       " 'has',\n",
       " 'raised',\n",
       " 'fears',\n",
       " 'among',\n",
       " 'many',\n",
       " 'of',\n",
       " 'asia',\n",
       " \"'s\",\n",
       " 'exporting',\n",
       " 'nations',\n",
       " 'that',\n",
       " 'the',\n",
       " 'row',\n",
       " 'could',\n",
       " 'inflict',\n",
       " 'far-reaching',\n",
       " 'economic',\n",
       " 'damage',\n",
       " ',',\n",
       " 'businessmen',\n",
       " 'and',\n",
       " 'officials',\n",
       " 'said',\n",
       " '.']"
      ]
     },
     "execution_count": 15,
     "metadata": {},
     "output_type": "execute_result"
    }
   ],
   "source": [
    "sentences = [sent for sent in sentences if len(sent)>1]\n",
    "sentences[0]"
   ]
  },
  {
   "cell_type": "code",
   "execution_count": 9,
   "metadata": {
    "colab": {},
    "colab_type": "code",
    "id": "4cZs0-CaxRWW"
   },
   "outputs": [],
   "source": [
    "collocations = Phrases(sentences=sentences, min_count=10,threshold=0.5,scoring='npmi') # threshold: minimo score aceptado"
   ]
  },
  {
   "cell_type": "code",
   "execution_count": 10,
   "metadata": {
    "colab": {},
    "colab_type": "code",
    "id": "E-2nDor0xRWZ"
   },
   "outputs": [],
   "source": [
    "to_collocations = Phraser(collocations)"
   ]
  },
  {
   "cell_type": "code",
   "execution_count": 11,
   "metadata": {
    "colab": {},
    "colab_type": "code",
    "id": "cGYtAFGhxRWc"
   },
   "outputs": [],
   "source": [
    "sent = 'new york is in united states of america. south africa and south america are in different continents'"
   ]
  },
  {
   "cell_type": "code",
   "execution_count": 12,
   "metadata": {
    "colab": {},
    "colab_type": "code",
    "id": "POePHCeDxRWf"
   },
   "outputs": [
    {
     "data": {
      "text/plain": [
       "['new_york',\n",
       " 'is',\n",
       " 'in',\n",
       " 'united_states',\n",
       " 'of',\n",
       " 'america',\n",
       " '.',\n",
       " 'south_africa',\n",
       " 'and',\n",
       " 'south',\n",
       " 'america',\n",
       " 'are',\n",
       " 'in',\n",
       " 'different',\n",
       " 'continents']"
      ]
     },
     "execution_count": 12,
     "metadata": {},
     "output_type": "execute_result"
    }
   ],
   "source": [
    "to_collocations[word_tokenize(sent)]"
   ]
  },
  {
   "cell_type": "code",
   "execution_count": 13,
   "metadata": {
    "colab": {},
    "colab_type": "code",
    "id": "3CC5GAiSxRWi"
   },
   "outputs": [
    {
     "data": {
      "text/plain": [
       "(114001, 2)"
      ]
     },
     "execution_count": 13,
     "metadata": {},
     "output_type": "execute_result"
    }
   ],
   "source": [
    "df_collocations = pd.DataFrame([x for x in collocations.export_phrases(sentences)],columns=[\"bigram\",\"score\"])\n",
    "df_collocations.shape"
   ]
  },
  {
   "cell_type": "code",
   "execution_count": 14,
   "metadata": {
    "colab": {},
    "colab_type": "code",
    "id": "2pvE6_YHxRWl"
   },
   "outputs": [
    {
     "data": {
      "text/html": [
       "<div>\n",
       "<style scoped>\n",
       "    .dataframe tbody tr th:only-of-type {\n",
       "        vertical-align: middle;\n",
       "    }\n",
       "\n",
       "    .dataframe tbody tr th {\n",
       "        vertical-align: top;\n",
       "    }\n",
       "\n",
       "    .dataframe thead th {\n",
       "        text-align: right;\n",
       "    }\n",
       "</style>\n",
       "<table border=\"1\" class=\"dataframe\">\n",
       "  <thead>\n",
       "    <tr style=\"text-align: right;\">\n",
       "      <th></th>\n",
       "      <th>bigram</th>\n",
       "      <th>score</th>\n",
       "    </tr>\n",
       "  </thead>\n",
       "  <tbody>\n",
       "    <tr>\n",
       "      <td>33040</td>\n",
       "      <td>b'bra kanon'</td>\n",
       "      <td>1.000000</td>\n",
       "    </tr>\n",
       "    <tr>\n",
       "      <td>8009</td>\n",
       "      <td>b'het comite'</td>\n",
       "      <td>1.000000</td>\n",
       "    </tr>\n",
       "    <tr>\n",
       "      <td>39184</td>\n",
       "      <td>b'corpus christi'</td>\n",
       "      <td>1.000000</td>\n",
       "    </tr>\n",
       "    <tr>\n",
       "      <td>7599</td>\n",
       "      <td>b'lago agrio'</td>\n",
       "      <td>1.000000</td>\n",
       "    </tr>\n",
       "    <tr>\n",
       "      <td>1258</td>\n",
       "      <td>b'buenos aires'</td>\n",
       "      <td>1.000000</td>\n",
       "    </tr>\n",
       "    <tr>\n",
       "      <td>8</td>\n",
       "      <td>b'&amp; lt'</td>\n",
       "      <td>0.999734</td>\n",
       "    </tr>\n",
       "    <tr>\n",
       "      <td>170</td>\n",
       "      <td>b'lt ;'</td>\n",
       "      <td>0.998407</td>\n",
       "    </tr>\n",
       "    <tr>\n",
       "      <td>5813</td>\n",
       "      <td>b'04/09/87 03/09/87'</td>\n",
       "      <td>0.997678</td>\n",
       "    </tr>\n",
       "    <tr>\n",
       "      <td>22537</td>\n",
       "      <td>b'hoare govett'</td>\n",
       "      <td>0.992659</td>\n",
       "    </tr>\n",
       "    <tr>\n",
       "      <td>8494</td>\n",
       "      <td>b'crazy eddie'</td>\n",
       "      <td>0.992514</td>\n",
       "    </tr>\n",
       "    <tr>\n",
       "      <td>815</td>\n",
       "      <td>b'avg shrs'</td>\n",
       "      <td>0.991896</td>\n",
       "    </tr>\n",
       "    <tr>\n",
       "      <td>28</td>\n",
       "      <td>b'hong kong'</td>\n",
       "      <td>0.986784</td>\n",
       "    </tr>\n",
       "    <tr>\n",
       "      <td>101</td>\n",
       "      <td>b'sri lanka'</td>\n",
       "      <td>0.986650</td>\n",
       "    </tr>\n",
       "    <tr>\n",
       "      <td>15459</td>\n",
       "      <td>b'karl otto'</td>\n",
       "      <td>0.986516</td>\n",
       "    </tr>\n",
       "    <tr>\n",
       "      <td>3789</td>\n",
       "      <td>b'los angeles'</td>\n",
       "      <td>0.985732</td>\n",
       "    </tr>\n",
       "    <tr>\n",
       "      <td>24382</td>\n",
       "      <td>b'dar es'</td>\n",
       "      <td>0.984740</td>\n",
       "    </tr>\n",
       "    <tr>\n",
       "      <td>433</td>\n",
       "      <td>b'wall street'</td>\n",
       "      <td>0.983436</td>\n",
       "    </tr>\n",
       "    <tr>\n",
       "      <td>5925</td>\n",
       "      <td>b'prev wk'</td>\n",
       "      <td>0.980448</td>\n",
       "    </tr>\n",
       "    <tr>\n",
       "      <td>5917</td>\n",
       "      <td>b'4/2/87 prev'</td>\n",
       "      <td>0.980448</td>\n",
       "    </tr>\n",
       "    <tr>\n",
       "      <td>8147</td>\n",
       "      <td>b'poison pill'</td>\n",
       "      <td>0.979519</td>\n",
       "    </tr>\n",
       "    <tr>\n",
       "      <td>76374</td>\n",
       "      <td>b'paz estenssoro'</td>\n",
       "      <td>0.978040</td>\n",
       "    </tr>\n",
       "    <tr>\n",
       "      <td>12934</td>\n",
       "      <td>b'costa rica'</td>\n",
       "      <td>0.974368</td>\n",
       "    </tr>\n",
       "    <tr>\n",
       "      <td>69065</td>\n",
       "      <td>b'corazon aquino'</td>\n",
       "      <td>0.973832</td>\n",
       "    </tr>\n",
       "    <tr>\n",
       "      <td>11227</td>\n",
       "      <td>b'abu dhabi'</td>\n",
       "      <td>0.973699</td>\n",
       "    </tr>\n",
       "    <tr>\n",
       "      <td>3080</td>\n",
       "      <td>b'merrill lynch'</td>\n",
       "      <td>0.973686</td>\n",
       "    </tr>\n",
       "    <tr>\n",
       "      <td>5316</td>\n",
       "      <td>b'k mart'</td>\n",
       "      <td>0.972811</td>\n",
       "    </tr>\n",
       "    <tr>\n",
       "      <td>1417</td>\n",
       "      <td>b'dean witter'</td>\n",
       "      <td>0.971238</td>\n",
       "    </tr>\n",
       "    <tr>\n",
       "      <td>9025</td>\n",
       "      <td>b'drexel burnham'</td>\n",
       "      <td>0.970735</td>\n",
       "    </tr>\n",
       "    <tr>\n",
       "      <td>52532</td>\n",
       "      <td>b'lear siegler'</td>\n",
       "      <td>0.970395</td>\n",
       "    </tr>\n",
       "    <tr>\n",
       "      <td>1631</td>\n",
       "      <td>b'sao paulo'</td>\n",
       "      <td>0.966985</td>\n",
       "    </tr>\n",
       "    <tr>\n",
       "      <td>20444</td>\n",
       "      <td>b'l.f. rothschild'</td>\n",
       "      <td>0.963271</td>\n",
       "    </tr>\n",
       "    <tr>\n",
       "      <td>25816</td>\n",
       "      <td>b'ranks hovis'</td>\n",
       "      <td>0.961045</td>\n",
       "    </tr>\n",
       "    <tr>\n",
       "      <td>5930</td>\n",
       "      <td>b'ay expd-e'</td>\n",
       "      <td>0.960661</td>\n",
       "    </tr>\n",
       "    <tr>\n",
       "      <td>16960</td>\n",
       "      <td>b'phelps dodge'</td>\n",
       "      <td>0.959547</td>\n",
       "    </tr>\n",
       "    <tr>\n",
       "      <td>11111</td>\n",
       "      <td>b'pro forma'</td>\n",
       "      <td>0.959279</td>\n",
       "    </tr>\n",
       "    <tr>\n",
       "      <td>7715</td>\n",
       "      <td>b'margaret thatcher'</td>\n",
       "      <td>0.957375</td>\n",
       "    </tr>\n",
       "    <tr>\n",
       "      <td>76649</td>\n",
       "      <td>b'gates learjet'</td>\n",
       "      <td>0.957245</td>\n",
       "    </tr>\n",
       "    <tr>\n",
       "      <td>877</td>\n",
       "      <td>b'note :'</td>\n",
       "      <td>0.951387</td>\n",
       "    </tr>\n",
       "    <tr>\n",
       "      <td>480</td>\n",
       "      <td>b'jardine matheson'</td>\n",
       "      <td>0.950632</td>\n",
       "    </tr>\n",
       "    <tr>\n",
       "      <td>124</td>\n",
       "      <td>b'kleinwort benson'</td>\n",
       "      <td>0.949778</td>\n",
       "    </tr>\n",
       "    <tr>\n",
       "      <td>7003</td>\n",
       "      <td>b'du pont'</td>\n",
       "      <td>0.947989</td>\n",
       "    </tr>\n",
       "    <tr>\n",
       "      <td>23143</td>\n",
       "      <td>b'hernandez grisanti'</td>\n",
       "      <td>0.947074</td>\n",
       "    </tr>\n",
       "    <tr>\n",
       "      <td>12822</td>\n",
       "      <td>b'hajime tamura'</td>\n",
       "      <td>0.946277</td>\n",
       "    </tr>\n",
       "    <tr>\n",
       "      <td>1259</td>\n",
       "      <td>b'santa fe'</td>\n",
       "      <td>0.944366</td>\n",
       "    </tr>\n",
       "    <tr>\n",
       "      <td>303</td>\n",
       "      <td>b'saudi arabia'</td>\n",
       "      <td>0.942983</td>\n",
       "    </tr>\n",
       "    <tr>\n",
       "      <td>19252</td>\n",
       "      <td>b'carter hawley'</td>\n",
       "      <td>0.942731</td>\n",
       "    </tr>\n",
       "    <tr>\n",
       "      <td>5931</td>\n",
       "      <td>b'ind ttl-f'</td>\n",
       "      <td>0.941518</td>\n",
       "    </tr>\n",
       "    <tr>\n",
       "      <td>2012</td>\n",
       "      <td>b'lord abbett'</td>\n",
       "      <td>0.940303</td>\n",
       "    </tr>\n",
       "    <tr>\n",
       "      <td>5400</td>\n",
       "      <td>b'puerto rico'</td>\n",
       "      <td>0.939429</td>\n",
       "    </tr>\n",
       "    <tr>\n",
       "      <td>2307</td>\n",
       "      <td>b'exchequer nigel'</td>\n",
       "      <td>0.938549</td>\n",
       "    </tr>\n",
       "  </tbody>\n",
       "</table>\n",
       "</div>"
      ],
      "text/plain": [
       "                      bigram     score\n",
       "33040           b'bra kanon'  1.000000\n",
       "8009           b'het comite'  1.000000\n",
       "39184      b'corpus christi'  1.000000\n",
       "7599           b'lago agrio'  1.000000\n",
       "1258         b'buenos aires'  1.000000\n",
       "8                    b'& lt'  0.999734\n",
       "170                  b'lt ;'  0.998407\n",
       "5813    b'04/09/87 03/09/87'  0.997678\n",
       "22537        b'hoare govett'  0.992659\n",
       "8494          b'crazy eddie'  0.992514\n",
       "815              b'avg shrs'  0.991896\n",
       "28              b'hong kong'  0.986784\n",
       "101             b'sri lanka'  0.986650\n",
       "15459           b'karl otto'  0.986516\n",
       "3789          b'los angeles'  0.985732\n",
       "24382              b'dar es'  0.984740\n",
       "433           b'wall street'  0.983436\n",
       "5925              b'prev wk'  0.980448\n",
       "5917          b'4/2/87 prev'  0.980448\n",
       "8147          b'poison pill'  0.979519\n",
       "76374      b'paz estenssoro'  0.978040\n",
       "12934          b'costa rica'  0.974368\n",
       "69065      b'corazon aquino'  0.973832\n",
       "11227           b'abu dhabi'  0.973699\n",
       "3080        b'merrill lynch'  0.973686\n",
       "5316               b'k mart'  0.972811\n",
       "1417          b'dean witter'  0.971238\n",
       "9025       b'drexel burnham'  0.970735\n",
       "52532        b'lear siegler'  0.970395\n",
       "1631            b'sao paulo'  0.966985\n",
       "20444     b'l.f. rothschild'  0.963271\n",
       "25816         b'ranks hovis'  0.961045\n",
       "5930            b'ay expd-e'  0.960661\n",
       "16960        b'phelps dodge'  0.959547\n",
       "11111           b'pro forma'  0.959279\n",
       "7715    b'margaret thatcher'  0.957375\n",
       "76649       b'gates learjet'  0.957245\n",
       "877                b'note :'  0.951387\n",
       "480      b'jardine matheson'  0.950632\n",
       "124      b'kleinwort benson'  0.949778\n",
       "7003              b'du pont'  0.947989\n",
       "23143  b'hernandez grisanti'  0.947074\n",
       "12822       b'hajime tamura'  0.946277\n",
       "1259             b'santa fe'  0.944366\n",
       "303          b'saudi arabia'  0.942983\n",
       "19252       b'carter hawley'  0.942731\n",
       "5931            b'ind ttl-f'  0.941518\n",
       "2012          b'lord abbett'  0.940303\n",
       "5400          b'puerto rico'  0.939429\n",
       "2307      b'exchequer nigel'  0.938549"
      ]
     },
     "execution_count": 14,
     "metadata": {},
     "output_type": "execute_result"
    }
   ],
   "source": [
    "df_collocations.drop_duplicates().sort_values(by=\"score\",ascending=False).head(50)"
   ]
  },
  {
   "cell_type": "code",
   "execution_count": 0,
   "metadata": {
    "colab": {},
    "colab_type": "code",
    "id": "xks1BBRuxRWo"
   },
   "outputs": [],
   "source": []
  },
  {
   "cell_type": "code",
   "execution_count": 0,
   "metadata": {
    "colab": {},
    "colab_type": "code",
    "id": "u6tosrYjxRWq"
   },
   "outputs": [],
   "source": []
  },
  {
   "cell_type": "code",
   "execution_count": 0,
   "metadata": {
    "colab": {},
    "colab_type": "code",
    "id": "VW-dJFHj64hz"
   },
   "outputs": [],
   "source": []
  }
 ],
 "metadata": {
  "colab": {
   "collapsed_sections": [],
   "name": "5. collocations.ipynb",
   "provenance": []
  },
  "kernelspec": {
   "display_name": "Python 3",
   "language": "python",
   "name": "python3"
  },
  "language_info": {
   "codemirror_mode": {
    "name": "ipython",
    "version": 3
   },
   "file_extension": ".py",
   "mimetype": "text/x-python",
   "name": "python",
   "nbconvert_exporter": "python",
   "pygments_lexer": "ipython3",
   "version": "3.5.3"
  },
  "toc": {
   "base_numbering": 1,
   "nav_menu": {},
   "number_sections": true,
   "sideBar": true,
   "skip_h1_title": false,
   "title_cell": "Table of Contents",
   "title_sidebar": "Contents",
   "toc_cell": false,
   "toc_position": {},
   "toc_section_display": true,
   "toc_window_display": false
  }
 },
 "nbformat": 4,
 "nbformat_minor": 1
}
