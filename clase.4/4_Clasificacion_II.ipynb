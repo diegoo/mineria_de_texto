{
  "nbformat": 4,
  "nbformat_minor": 0,
  "metadata": {
    "kernelspec": {
      "display_name": "Python 3",
      "language": "python",
      "name": "python3"
    },
    "language_info": {
      "codemirror_mode": {
        "name": "ipython",
        "version": 3
      },
      "file_extension": ".py",
      "mimetype": "text/x-python",
      "name": "python",
      "nbconvert_exporter": "python",
      "pygments_lexer": "ipython3",
      "version": "3.7.2"
    },
    "colab": {
      "name": "4. Clasificacion II.ipynb",
      "provenance": []
    }
  },
  "cells": [
    {
      "cell_type": "code",
      "metadata": {
        "id": "4TpJ9odvoOvk",
        "colab_type": "code",
        "outputId": "54b7abab-03ae-4f8b-c3e9-71e708d0127d",
        "colab": {
          "base_uri": "https://localhost:8080/",
          "height": 89
        }
      },
      "source": [
        "import nltk\n",
        "nltk.download('movie_reviews')\n",
        "nltk.download('punkt')\n",
        "\n",
        "import re\n",
        "import pandas as pd\n",
        "\n",
        "import matplotlib.pyplot as plt\n",
        "from nltk.corpus import movie_reviews\n",
        "from nltk import word_tokenize, sent_tokenize\n",
        "\n",
        "from sklearn.model_selection import train_test_split, cross_val_score, GridSearchCV\n",
        "from sklearn.feature_extraction.text import CountVectorizer, TfidfVectorizer\n",
        "from sklearn.naive_bayes import MultinomialNB\n",
        "from sklearn.linear_model import LogisticRegression\n",
        "from sklearn.pipeline import Pipeline\n",
        "from sklearn.feature_selection import SelectKBest, mutual_info_classif\n",
        "from sklearn.metrics import f1_score\n"
      ],
      "execution_count": 0,
      "outputs": [
        {
          "output_type": "stream",
          "text": [
            "[nltk_data] Downloading package movie_reviews to /root/nltk_data...\n",
            "[nltk_data]   Package movie_reviews is already up-to-date!\n",
            "[nltk_data] Downloading package punkt to /root/nltk_data...\n",
            "[nltk_data]   Package punkt is already up-to-date!\n"
          ],
          "name": "stdout"
        }
      ]
    },
    {
      "cell_type": "code",
      "metadata": {
        "id": "T_Y7jefW1bcj",
        "colab_type": "code",
        "colab": {}
      },
      "source": [
        "documents = []\n",
        " \n",
        "for category in movie_reviews.categories():\n",
        "    for fileid in movie_reviews.fileids(category):\n",
        "        documents.append((movie_reviews.raw(fileid), category))\n",
        "\n",
        "df = pd.DataFrame(documents, columns=['review', 'tag'])\n",
        "\n",
        "df = df.sample(frac=1,random_state=0).reset_index(drop=True).copy()\n",
        "# separamos entre train y test sets\n",
        "X = df.review\n",
        "y = df.tag\n",
        "X_train_text, X_test_text, y_train, y_test = train_test_split(X,y,stratify=y, test_size=0.20, random_state=1234)\n",
        "\n",
        "# Limpieza del texto\n",
        "def clean_text(text):\n",
        "  # En este caso particular no hace falta limpiar los textos\n",
        "  return text.strip()\n",
        "\n",
        "def tokenizer(text):\n",
        "    return [w for w in word_tokenize(text) if w.isalpha()] # si solo nos interesan palabras"
      ],
      "execution_count": 0,
      "outputs": []
    },
    {
      "cell_type": "markdown",
      "metadata": {
        "id": "_anROJS01bco",
        "colab_type": "text"
      },
      "source": [
        "# Naive Bayes con GridSearch y PreProcesamiento"
      ]
    },
    {
      "cell_type": "code",
      "metadata": {
        "id": "kuaPEovO1bdu",
        "colab_type": "code",
        "outputId": "26555897-d99f-400f-af2e-df0e56801a99",
        "colab": {
          "base_uri": "https://localhost:8080/",
          "height": 557
        }
      },
      "source": [
        "# Defino el pipeline\n",
        "pipeline_NB = Pipeline([('tfidf', TfidfVectorizer(preprocessor=clean_text, tokenizer=tokenizer, stop_words=\"english\")),\n",
        "                     ('clf', MultinomialNB())])\n",
        "\n",
        "parameters_NB = {'tfidf__ngram_range': [(1, 2)],\n",
        "              'tfidf__min_df': [.05, .1],\n",
        "              'clf__alpha': [0.01,0.1]}\n",
        "\n",
        "# Fit and tune model\n",
        "clf_pipe_feature_sel_NB = GridSearchCV(pipeline_NB, parameters_NB,scoring='f1_macro',cv=5,return_train_score=True, n_jobs=-1)\n",
        "clf_pipe_feature_sel_NB.fit(X_train_text, y_train)"
      ],
      "execution_count": 0,
      "outputs": [
        {
          "output_type": "execute_result",
          "data": {
            "text/plain": [
              "GridSearchCV(cv=5, error_score='raise-deprecating',\n",
              "             estimator=Pipeline(memory=None,\n",
              "                                steps=[('tfidf',\n",
              "                                        TfidfVectorizer(analyzer='word',\n",
              "                                                        binary=False,\n",
              "                                                        decode_error='strict',\n",
              "                                                        dtype=<class 'numpy.float64'>,\n",
              "                                                        encoding='utf-8',\n",
              "                                                        input='content',\n",
              "                                                        lowercase=True,\n",
              "                                                        max_df=1.0,\n",
              "                                                        max_features=None,\n",
              "                                                        min_df=1,\n",
              "                                                        ngram_range=(1, 1),\n",
              "                                                        norm='l2',\n",
              "                                                        preprocessor=<function clean_text at 0x7f72fbd...\n",
              "                                                        tokenizer=<function tokenizer at 0x7f72fbd0b2f0>,\n",
              "                                                        use_idf=True,\n",
              "                                                        vocabulary=None)),\n",
              "                                       ('clf',\n",
              "                                        MultinomialNB(alpha=1.0,\n",
              "                                                      class_prior=None,\n",
              "                                                      fit_prior=True))],\n",
              "                                verbose=False),\n",
              "             iid='warn', n_jobs=-1,\n",
              "             param_grid={'clf__alpha': [0.01, 0.1],\n",
              "                         'tfidf__min_df': [0.05, 0.1],\n",
              "                         'tfidf__ngram_range': [(1, 2)]},\n",
              "             pre_dispatch='2*n_jobs', refit=True, return_train_score=True,\n",
              "             scoring='f1_macro', verbose=0)"
            ]
          },
          "metadata": {
            "tags": []
          },
          "execution_count": 3
        }
      ]
    },
    {
      "cell_type": "code",
      "metadata": {
        "id": "rel4pctz1bdx",
        "colab_type": "code",
        "outputId": "20ea3ccb-7579-4990-9372-7df9fdac57b8",
        "colab": {
          "base_uri": "https://localhost:8080/",
          "height": 125
        }
      },
      "source": [
        "best_pipeline_feature_sel_NB = clf_pipe_feature_sel_NB.best_estimator_\n",
        "print(\"Best Cross-Validation:\",clf_pipe_feature_sel_NB.best_score_)\n",
        "print(\"\\nBest parameters set:\")\n",
        "best_parameters_NB = best_pipeline_feature_sel_NB.get_params()\n",
        "print(\"tfidf__ngram_range:\",best_parameters_NB[\"tfidf__ngram_range\"])\n",
        "print(\"tfidf__min_df:\",best_parameters_NB[\"tfidf__min_df\"])\n",
        "print(\"clf__alpha:\",best_parameters_NB[\"clf__alpha\"])"
      ],
      "execution_count": 0,
      "outputs": [
        {
          "output_type": "stream",
          "text": [
            "Best Cross-Validation: 0.7978830651889727\n",
            "\n",
            "Best parameters set:\n",
            "tfidf__ngram_range: (1, 2)\n",
            "tfidf__min_df: 0.05\n",
            "clf__alpha: 0.01\n"
          ],
          "name": "stdout"
        }
      ]
    },
    {
      "cell_type": "markdown",
      "metadata": {
        "id": "oog6X-wS1bc4",
        "colab_type": "text"
      },
      "source": [
        "# Regresión Logística\n",
        "\n",
        "\n",
        "---\n",
        "\n",
        "\n"
      ]
    },
    {
      "cell_type": "code",
      "metadata": {
        "id": "KZbbObaZ1bc5",
        "colab_type": "code",
        "outputId": "9f589497-371b-485a-ae58-bfb12e9605df",
        "colab": {
          "base_uri": "https://localhost:8080/",
          "height": 629
        }
      },
      "source": [
        "pipeline_log = Pipeline([('tfidf', TfidfVectorizer(preprocessor=clean_text, tokenizer=tokenizer, stop_words=\"english\")),\n",
        "                     ('clf', LogisticRegression(random_state=0, multi_class='ovr'))])\n",
        "\n",
        "parameters_log = {'tfidf__ngram_range': [(1, 2), (1, 3)],\n",
        "              'tfidf__min_df': [.05, .1],\n",
        "              'clf__penalty': ['l1','l2']}\n",
        "\n",
        "# Fit and tune model\n",
        "clf_pipe_feature_sel_log = GridSearchCV(pipeline_log, parameters_log,scoring='f1_macro',cv=5,return_train_score=True, n_jobs=-1)\n",
        "clf_pipe_feature_sel_log.fit(X_train_text, y_train)\n"
      ],
      "execution_count": 0,
      "outputs": [
        {
          "output_type": "stream",
          "text": [
            "/usr/local/lib/python3.6/dist-packages/sklearn/linear_model/logistic.py:432: FutureWarning: Default solver will be changed to 'lbfgs' in 0.22. Specify a solver to silence this warning.\n",
            "  FutureWarning)\n"
          ],
          "name": "stderr"
        },
        {
          "output_type": "execute_result",
          "data": {
            "text/plain": [
              "GridSearchCV(cv=5, error_score='raise-deprecating',\n",
              "             estimator=Pipeline(memory=None,\n",
              "                                steps=[('tfidf',\n",
              "                                        TfidfVectorizer(analyzer='word',\n",
              "                                                        binary=False,\n",
              "                                                        decode_error='strict',\n",
              "                                                        dtype=<class 'numpy.float64'>,\n",
              "                                                        encoding='utf-8',\n",
              "                                                        input='content',\n",
              "                                                        lowercase=True,\n",
              "                                                        max_df=1.0,\n",
              "                                                        max_features=None,\n",
              "                                                        min_df=1,\n",
              "                                                        ngram_range=(1, 1),\n",
              "                                                        norm='l2',\n",
              "                                                        preprocessor=<function clean_text at 0x7f72fbd...\n",
              "                                                           max_iter=100,\n",
              "                                                           multi_class='ovr',\n",
              "                                                           n_jobs=None,\n",
              "                                                           penalty='l2',\n",
              "                                                           random_state=0,\n",
              "                                                           solver='warn',\n",
              "                                                           tol=0.0001,\n",
              "                                                           verbose=0,\n",
              "                                                           warm_start=False))],\n",
              "                                verbose=False),\n",
              "             iid='warn', n_jobs=-1,\n",
              "             param_grid={'clf__penalty': ['l1', 'l2'],\n",
              "                         'tfidf__min_df': [0.05, 0.1],\n",
              "                         'tfidf__ngram_range': [(1, 2), (1, 3)]},\n",
              "             pre_dispatch='2*n_jobs', refit=True, return_train_score=True,\n",
              "             scoring='f1_macro', verbose=0)"
            ]
          },
          "metadata": {
            "tags": []
          },
          "execution_count": 5
        }
      ]
    },
    {
      "cell_type": "code",
      "metadata": {
        "id": "8gUei-vaAQEQ",
        "colab_type": "code",
        "outputId": "2a689f6d-e7bf-4aa8-af6a-1e8c182a01b7",
        "colab": {
          "base_uri": "https://localhost:8080/",
          "height": 125
        }
      },
      "source": [
        "best_pipeline_feature_sel_log = clf_pipe_feature_sel_log.best_estimator_\n",
        "print(\"Best Cross-Validation:\",clf_pipe_feature_sel_log.best_score_)\n",
        "print(\"\\nBest parameters set:\")\n",
        "best_parameters_log = best_pipeline_feature_sel_log.get_params()\n",
        "print(\"tfidf__ngram_range:\",best_parameters_log[\"tfidf__ngram_range\"])\n",
        "print(\"tfidf__min_df:\",best_parameters_log[\"tfidf__min_df\"])\n",
        "print(\"clf__alpha:\",best_parameters_log[\"clf__penalty\"])"
      ],
      "execution_count": 0,
      "outputs": [
        {
          "output_type": "stream",
          "text": [
            "Best Cross-Validation: 0.8180493029362605\n",
            "\n",
            "Best parameters set:\n",
            "tfidf__ngram_range: (1, 2)\n",
            "tfidf__min_df: 0.05\n",
            "clf__alpha: l2\n"
          ],
          "name": "stdout"
        }
      ]
    },
    {
      "cell_type": "markdown",
      "metadata": {
        "id": "1AsAfkdnUWY5",
        "colab_type": "text"
      },
      "source": [
        "# Performance en el TestSet"
      ]
    },
    {
      "cell_type": "code",
      "metadata": {
        "id": "DU4pQFzzSdc7",
        "colab_type": "code",
        "outputId": "9ad919df-1f20-4172-a328-e3a4efbee32f",
        "colab": {
          "base_uri": "https://localhost:8080/",
          "height": 53
        }
      },
      "source": [
        "print(\"Naive Bayes tf-idf = \", f1_score(y_test, best_pipeline_feature_sel_NB.predict(X_test_text), average=\"macro\"))\n",
        "print(\"Regresión Logística tf-idf = \", f1_score(y_test, best_pipeline_feature_sel_log.predict(X_test_text), average=\"macro\"))\n"
      ],
      "execution_count": 0,
      "outputs": [
        {
          "output_type": "stream",
          "text": [
            "Naive Bayes tf-idf =  0.8023505275864873\n",
            "Regresión Logística tf-idf =  0.8274126276427441\n"
          ],
          "name": "stdout"
        }
      ]
    },
    {
      "cell_type": "markdown",
      "metadata": {
        "id": "WRiGJ9lV1bc_",
        "colab_type": "text"
      },
      "source": [
        "# Feature Importance\n"
      ]
    },
    {
      "cell_type": "code",
      "metadata": {
        "id": "bO4Pu5ITLf7m",
        "colab_type": "code",
        "colab": {}
      },
      "source": [
        "pipeline_FI = Pipeline([('tfidf', TfidfVectorizer(preprocessor=clean_text, \n",
        "                                               tokenizer=tokenizer, \n",
        "                                               stop_words=\"english\", \n",
        "                                               ngram_range = best_parameters_log[\"tfidf__ngram_range\"],\n",
        "                                               min_df      = best_parameters_log[\"tfidf__min_df\"])),\n",
        "                     ('clf', LogisticRegression(random_state=0, \n",
        "                                                multi_class='ovr',\n",
        "                                                solver = 'lbfgs',\n",
        "                                                penalty = best_parameters_log[\"clf__penalty\"]))])\n",
        "\n",
        "m = pipeline_FI.fit(X_train_text, y_train)\n",
        "\n",
        "features = m[0].vocabulary_\n",
        "weights  = m[1].coef_[0]\n"
      ],
      "execution_count": 0,
      "outputs": []
    },
    {
      "cell_type": "markdown",
      "metadata": {
        "id": "GrvsRkCpLr-d",
        "colab_type": "text"
      },
      "source": [
        "## Palabras importantes para clasificar reviews Postitivos"
      ]
    },
    {
      "cell_type": "code",
      "metadata": {
        "id": "EOh8VmJr1bc8",
        "colab_type": "code",
        "outputId": "820e19db-e4a4-47c4-c264-7abe3eb95398",
        "colab": {
          "base_uri": "https://localhost:8080/",
          "height": 459
        }
      },
      "source": [
        "important_Poswords = pd.Series(weights,index=features).sort_values(ascending=False)[:25]\n",
        "important_Poswords.plot(kind=\"bar\",figsize=(15,5),color=\"darkgreen\")\n",
        "plt.ylabel(\"Feature importance\",size=20);plt.xticks(size = 20);plt.yticks(size = 20)"
      ],
      "execution_count": 0,
      "outputs": [
        {
          "output_type": "execute_result",
          "data": {
            "text/plain": [
              "(array([0.  , 0.25, 0.5 , 0.75, 1.  , 1.25, 1.5 , 1.75, 2.  , 2.25]),\n",
              " <a list of 10 Text yticklabel objects>)"
            ]
          },
          "metadata": {
            "tags": []
          },
          "execution_count": 15
        },
        {
          "output_type": "display_data",
          "data": {
            "image/png": "[encoded data removed]",
            "text/plain": [
              "<Figure size 1080x360 with 1 Axes>"
            ]
          },
          "metadata": {
            "tags": []
          }
        }
      ]
    },
    {
      "cell_type": "markdown",
      "metadata": {
        "id": "16ymztdUl5to",
        "colab_type": "text"
      },
      "source": [
        "## Palabras importantes para clasificar reviews Negativos"
      ]
    },
    {
      "cell_type": "code",
      "metadata": {
        "id": "B2072JVzDrfp",
        "colab_type": "code",
        "outputId": "5d673859-f477-4637-ab36-36110941b3b8",
        "colab": {
          "base_uri": "https://localhost:8080/",
          "height": 450
        }
      },
      "source": [
        "important_Negwords = pd.Series(weights,index=features).sort_values(ascending=False)[-25:]\n",
        "important_Negwords.plot(kind=\"bar\",figsize=(15,5),color=\"darkgreen\")\n",
        "plt.ylabel(\"Feature importance\",size=20);plt.xticks(size = 20);plt.yticks(size = 20)"
      ],
      "execution_count": 0,
      "outputs": [
        {
          "output_type": "execute_result",
          "data": {
            "text/plain": [
              "(array([-4.5, -4. , -3.5, -3. , -2.5, -2. , -1.5, -1. , -0.5,  0. ]),\n",
              " <a list of 10 Text yticklabel objects>)"
            ]
          },
          "metadata": {
            "tags": []
          },
          "execution_count": 16
        },
        {
          "output_type": "display_data",
          "data": {
            "image/png": "[encoded data removed]",
            "text/plain": [
              "<Figure size 1080x360 with 1 Axes>"
            ]
          },
          "metadata": {
            "tags": []
          }
        }
      ]
    },
    {
      "cell_type": "markdown",
      "metadata": {
        "id": "YHMiVUjV1bdK",
        "colab_type": "text"
      },
      "source": [
        "# TF-IDF\n",
        "### ejemplo"
      ]
    },
    {
      "cell_type": "code",
      "metadata": {
        "id": "qyMJsb4Q1bdL",
        "colab_type": "code",
        "colab": {}
      },
      "source": [
        "vectorizer = TfidfVectorizer(preprocessor=clean_text, tokenizer=tokenizer)"
      ],
      "execution_count": 0,
      "outputs": []
    },
    {
      "cell_type": "code",
      "metadata": {
        "id": "1uCXGusJ1bdN",
        "colab_type": "code",
        "colab": {}
      },
      "source": [
        "train_text = [\"mono mono cabra\",\"mono mono elefante\",\"mono mono\",\"mono mono mono mono\",\"mono\",\"mono\",\"elefante\"]"
      ],
      "execution_count": 0,
      "outputs": []
    },
    {
      "cell_type": "code",
      "metadata": {
        "id": "GUxyNe1N1bdQ",
        "colab_type": "code",
        "colab": {}
      },
      "source": [
        "tfidf = vectorizer.fit_transform(train_text)"
      ],
      "execution_count": 0,
      "outputs": []
    },
    {
      "cell_type": "code",
      "metadata": {
        "id": "gjR6R1Sj1bdS",
        "colab_type": "code",
        "outputId": "871e1ea1-7f91-4236-8cda-524ae2be11ff",
        "colab": {
          "base_uri": "https://localhost:8080/",
          "height": 34
        }
      },
      "source": [
        "print(vectorizer.get_feature_names())"
      ],
      "execution_count": 0,
      "outputs": [
        {
          "output_type": "stream",
          "text": [
            "['cabra', 'elefante', 'mono']\n"
          ],
          "name": "stdout"
        }
      ]
    },
    {
      "cell_type": "code",
      "metadata": {
        "id": "u6-FRIXT1bdX",
        "colab_type": "code",
        "outputId": "bb16c1df-da53-44b8-9edf-63347ecd339e",
        "colab": {
          "base_uri": "https://localhost:8080/",
          "height": 136
        }
      },
      "source": [
        "tfidf.toarray()"
      ],
      "execution_count": 0,
      "outputs": [
        {
          "output_type": "execute_result",
          "data": {
            "text/plain": [
              "array([[0.72498682, 0.        , 0.68876274],\n",
              "       [0.        , 0.65796814, 0.75304577],\n",
              "       [0.        , 0.        , 1.        ],\n",
              "       [0.        , 0.        , 1.        ],\n",
              "       [0.        , 0.        , 1.        ],\n",
              "       [0.        , 0.        , 1.        ],\n",
              "       [0.        , 1.        , 0.        ]])"
            ]
          },
          "metadata": {
            "tags": []
          },
          "execution_count": 35
        }
      ]
    },
    {
      "cell_type": "code",
      "metadata": {
        "id": "i6sSa1cr1bdb",
        "colab_type": "code",
        "outputId": "f2c45ad5-70d8-4252-8bf8-0a878537e33a",
        "colab": {
          "base_uri": "https://localhost:8080/",
          "height": 34
        }
      },
      "source": [
        "vectorizer.idf_"
      ],
      "execution_count": 0,
      "outputs": [
        {
          "output_type": "execute_result",
          "data": {
            "text/plain": [
              "array([2.38629436, 1.98082925, 1.13353139])"
            ]
          },
          "metadata": {
            "tags": []
          },
          "execution_count": 36
        }
      ]
    },
    {
      "cell_type": "code",
      "metadata": {
        "id": "ovJuxEId1bdf",
        "colab_type": "code",
        "outputId": "80fadcdb-6d86-4bc0-b886-4b993eeb46c6",
        "colab": {
          "base_uri": "https://localhost:8080/",
          "height": 68
        }
      },
      "source": [
        "vectorizer.transform([\"mono cabra\",\"mono cabra elefante\",\"perro mono\"]).toarray()"
      ],
      "execution_count": 0,
      "outputs": [
        {
          "output_type": "execute_result",
          "data": {
            "text/plain": [
              "array([[0.90327141, 0.        , 0.42906965],\n",
              "       [0.72268898, 0.59989392, 0.34328986],\n",
              "       [0.        , 0.        , 1.        ]])"
            ]
          },
          "metadata": {
            "tags": []
          },
          "execution_count": 37
        }
      ]
    }
  ]
}